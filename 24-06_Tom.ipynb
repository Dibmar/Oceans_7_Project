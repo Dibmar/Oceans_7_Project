{
 "cells": [
  {
   "cell_type": "code",
   "execution_count": 71,
   "metadata": {},
   "outputs": [],
   "source": [
    "import pandas as pd\n",
    "import numpy as np\n",
    "\n",
    "\n",
    "import matplotlib.pyplot as plt\n",
    "%matplotlib inline"
   ]
  },
  {
   "cell_type": "code",
   "execution_count": 72,
   "metadata": {
    "tags": []
   },
   "outputs": [
    {
     "output_type": "execute_result",
     "data": {
      "text/plain": "           directions                                              ports  \\\n1                 NaN                                                NaN   \n2                 NaN                                                NaN   \n3  10.0.2.6,10.0.2.25  User Datagram Protocol, Src Port: 68, Dst Port...   \n4  10.0.2.25,10.0.2.6  User Datagram Protocol, Src Port: 67, Dst Port...   \n5   10.0.2.6,10.0.2.2  User Datagram Protocol, Src Port: 35855, Dst P...   \n\n                                      action  \n1           Who has 10.0.2.25? Tell 10.0.2.6  \n2          10.0.2.25 is at 00:50:56:fc:6f:0d  \n3  DHCP Request  - Transaction ID 0xa8ac8ab8  \n4  DHCP ACK      - Transaction ID 0xa8ac8ab8  \n5        Standard query 0xe08e A www.eff.org  ",
      "text/html": "<div>\n<style scoped>\n    .dataframe tbody tr th:only-of-type {\n        vertical-align: middle;\n    }\n\n    .dataframe tbody tr th {\n        vertical-align: top;\n    }\n\n    .dataframe thead th {\n        text-align: right;\n    }\n</style>\n<table border=\"1\" class=\"dataframe\">\n  <thead>\n    <tr style=\"text-align: right;\">\n      <th></th>\n      <th>directions</th>\n      <th>ports</th>\n      <th>action</th>\n    </tr>\n  </thead>\n  <tbody>\n    <tr>\n      <td>1</td>\n      <td>NaN</td>\n      <td>NaN</td>\n      <td>Who has 10.0.2.25? Tell 10.0.2.6</td>\n    </tr>\n    <tr>\n      <td>2</td>\n      <td>NaN</td>\n      <td>NaN</td>\n      <td>10.0.2.25 is at 00:50:56:fc:6f:0d</td>\n    </tr>\n    <tr>\n      <td>3</td>\n      <td>10.0.2.6,10.0.2.25</td>\n      <td>User Datagram Protocol, Src Port: 68, Dst Port...</td>\n      <td>DHCP Request  - Transaction ID 0xa8ac8ab8</td>\n    </tr>\n    <tr>\n      <td>4</td>\n      <td>10.0.2.25,10.0.2.6</td>\n      <td>User Datagram Protocol, Src Port: 67, Dst Port...</td>\n      <td>DHCP ACK      - Transaction ID 0xa8ac8ab8</td>\n    </tr>\n    <tr>\n      <td>5</td>\n      <td>10.0.2.6,10.0.2.2</td>\n      <td>User Datagram Protocol, Src Port: 35855, Dst P...</td>\n      <td>Standard query 0xe08e A www.eff.org</td>\n    </tr>\n  </tbody>\n</table>\n</div>"
     },
     "metadata": {},
     "execution_count": 72
    }
   ],
   "source": [
    "df = pd.read_csv(r'F:\\Programacion\\1.BOOTCAMP\\data\\trabajo_interdisciplinar\\simulacro_ataque_24-06.csv', names= ['directions', 'ports', 'action'], error_bad_lines=False)\n",
    "df.head()"
   ]
  },
  {
   "cell_type": "code",
   "execution_count": 73,
   "metadata": {},
   "outputs": [],
   "source": [
    "def general_info (df):\n",
    "    \"\"\"\n",
    "                        ---What it does--\n",
    "    This function checks the info, columns and shape of the df, printing them. Also it checks the presence of NaNs values on the df and prints them in case it founds them.\n",
    "\n",
    "                        ---What it needs---\n",
    "    A df object\n",
    "    \"\"\"\n",
    "\n",
    "\n",
    "    # df columns info\n",
    "    print('-dtype, length and name of columns-')\n",
    "    print(df.info())\n",
    "    print()\n",
    "    print(df.columns)\n",
    "    print()\n",
    "    print(df.shape)\n",
    "    print()\n",
    "\n",
    "    # Presence of NaNs in df\n",
    "    need_to_print =  False\n",
    "    nulls = df.isnull().any()\n",
    "    print('-Presence of NaNs in df-')\n",
    "    print (nulls)\n",
    "    for e in list(nulls):\n",
    "        if e == True:\n",
    "            need_to_print = True\n",
    "    if need_to_print == True:\n",
    "        print()\n",
    "        print('-Number of NaNs in df-')\n",
    "        print (df.isnull().sum() )\n",
    "    "
   ]
  },
  {
   "cell_type": "code",
   "execution_count": 74,
   "metadata": {
    "tags": []
   },
   "outputs": [
    {
     "output_type": "stream",
     "name": "stdout",
     "text": "-dtype, length and name of columns-\n<class 'pandas.core.frame.DataFrame'>\nInt64Index: 31813 entries, 1 to 31813\nData columns (total 3 columns):\ndirections    31496 non-null object\nports         1291 non-null object\naction        31813 non-null object\ndtypes: object(3)\nmemory usage: 994.2+ KB\nNone\n\nIndex(['directions', 'ports', 'action'], dtype='object')\n\n(31813, 3)\n\n-Presence of NaNs in df-\ndirections     True\nports          True\naction        False\ndtype: bool\n\n-Number of NaNs in df-\ndirections      317\nports         30522\naction            0\ndtype: int64\n"
    }
   ],
   "source": [
    "general_info(df)"
   ]
  },
  {
   "cell_type": "code",
   "execution_count": 75,
   "metadata": {},
   "outputs": [
    {
     "output_type": "execute_result",
     "data": {
      "text/plain": "Index(['directions', 'ports', 'action'], dtype='object')"
     },
     "metadata": {},
     "execution_count": 75
    }
   ],
   "source": [
    "df.columns"
   ]
  },
  {
   "cell_type": "code",
   "execution_count": 77,
   "metadata": {},
   "outputs": [],
   "source": [
    "df['directions'] = df['directions'].dropna() "
   ]
  },
  {
   "cell_type": "code",
   "execution_count": 76,
   "metadata": {},
   "outputs": [],
   "source": [
    "splitter = lambda r: r.split(',')"
   ]
  },
  {
   "cell_type": "code",
   "execution_count": 78,
   "metadata": {},
   "outputs": [],
   "source": [
    "df['directions'] = df['directions'].astype(str)\n",
    "df['directions'] = df['directions'].apply(splitter)\n"
   ]
  },
  {
   "cell_type": "code",
   "execution_count": 79,
   "metadata": {},
   "outputs": [
    {
     "output_type": "error",
     "ename": "IndexError",
     "evalue": "list index out of range",
     "traceback": [
      "\u001b[1;31m---------------------------------------------------------------------------\u001b[0m",
      "\u001b[1;31mIndexError\u001b[0m                                Traceback (most recent call last)",
      "\u001b[1;32m<ipython-input-79-79de7745a05f>\u001b[0m in \u001b[0;36m<module>\u001b[1;34m\u001b[0m\n\u001b[0;32m      1\u001b[0m \u001b[0mdf\u001b[0m\u001b[1;33m[\u001b[0m\u001b[1;34m'origyn'\u001b[0m\u001b[1;33m]\u001b[0m \u001b[1;33m=\u001b[0m \u001b[0mdf\u001b[0m\u001b[1;33m[\u001b[0m\u001b[1;34m'directions'\u001b[0m\u001b[1;33m]\u001b[0m\u001b[1;33m.\u001b[0m\u001b[0mapply\u001b[0m\u001b[1;33m(\u001b[0m\u001b[1;32mlambda\u001b[0m \u001b[0mr\u001b[0m\u001b[1;33m:\u001b[0m \u001b[0mr\u001b[0m\u001b[1;33m[\u001b[0m\u001b[1;36m0\u001b[0m\u001b[1;33m]\u001b[0m\u001b[1;33m)\u001b[0m\u001b[1;33m\u001b[0m\u001b[1;33m\u001b[0m\u001b[0m\n\u001b[1;32m----> 2\u001b[1;33m \u001b[0mdf\u001b[0m\u001b[1;33m[\u001b[0m\u001b[1;34m'destination'\u001b[0m\u001b[1;33m]\u001b[0m \u001b[1;33m=\u001b[0m \u001b[0mdf\u001b[0m\u001b[1;33m[\u001b[0m\u001b[1;34m'directions'\u001b[0m\u001b[1;33m]\u001b[0m\u001b[1;33m.\u001b[0m\u001b[0mapply\u001b[0m\u001b[1;33m(\u001b[0m\u001b[1;32mlambda\u001b[0m \u001b[0mr\u001b[0m\u001b[1;33m:\u001b[0m \u001b[0mr\u001b[0m\u001b[1;33m[\u001b[0m\u001b[1;36m1\u001b[0m\u001b[1;33m]\u001b[0m\u001b[1;33m)\u001b[0m\u001b[1;33m\u001b[0m\u001b[1;33m\u001b[0m\u001b[0m\n\u001b[0m",
      "\u001b[1;32mF:\\Programacion\\lib\\site-packages\\pandas\\core\\series.py\u001b[0m in \u001b[0;36mapply\u001b[1;34m(self, func, convert_dtype, args, **kwds)\u001b[0m\n\u001b[0;32m   4040\u001b[0m             \u001b[1;32melse\u001b[0m\u001b[1;33m:\u001b[0m\u001b[1;33m\u001b[0m\u001b[1;33m\u001b[0m\u001b[0m\n\u001b[0;32m   4041\u001b[0m                 \u001b[0mvalues\u001b[0m \u001b[1;33m=\u001b[0m \u001b[0mself\u001b[0m\u001b[1;33m.\u001b[0m\u001b[0mastype\u001b[0m\u001b[1;33m(\u001b[0m\u001b[0mobject\u001b[0m\u001b[1;33m)\u001b[0m\u001b[1;33m.\u001b[0m\u001b[0mvalues\u001b[0m\u001b[1;33m\u001b[0m\u001b[1;33m\u001b[0m\u001b[0m\n\u001b[1;32m-> 4042\u001b[1;33m                 \u001b[0mmapped\u001b[0m \u001b[1;33m=\u001b[0m \u001b[0mlib\u001b[0m\u001b[1;33m.\u001b[0m\u001b[0mmap_infer\u001b[0m\u001b[1;33m(\u001b[0m\u001b[0mvalues\u001b[0m\u001b[1;33m,\u001b[0m \u001b[0mf\u001b[0m\u001b[1;33m,\u001b[0m \u001b[0mconvert\u001b[0m\u001b[1;33m=\u001b[0m\u001b[0mconvert_dtype\u001b[0m\u001b[1;33m)\u001b[0m\u001b[1;33m\u001b[0m\u001b[1;33m\u001b[0m\u001b[0m\n\u001b[0m\u001b[0;32m   4043\u001b[0m \u001b[1;33m\u001b[0m\u001b[0m\n\u001b[0;32m   4044\u001b[0m         \u001b[1;32mif\u001b[0m \u001b[0mlen\u001b[0m\u001b[1;33m(\u001b[0m\u001b[0mmapped\u001b[0m\u001b[1;33m)\u001b[0m \u001b[1;32mand\u001b[0m \u001b[0misinstance\u001b[0m\u001b[1;33m(\u001b[0m\u001b[0mmapped\u001b[0m\u001b[1;33m[\u001b[0m\u001b[1;36m0\u001b[0m\u001b[1;33m]\u001b[0m\u001b[1;33m,\u001b[0m \u001b[0mSeries\u001b[0m\u001b[1;33m)\u001b[0m\u001b[1;33m:\u001b[0m\u001b[1;33m\u001b[0m\u001b[1;33m\u001b[0m\u001b[0m\n",
      "\u001b[1;32mpandas\\_libs\\lib.pyx\u001b[0m in \u001b[0;36mpandas._libs.lib.map_infer\u001b[1;34m()\u001b[0m\n",
      "\u001b[1;32m<ipython-input-79-79de7745a05f>\u001b[0m in \u001b[0;36m<lambda>\u001b[1;34m(r)\u001b[0m\n\u001b[0;32m      1\u001b[0m \u001b[0mdf\u001b[0m\u001b[1;33m[\u001b[0m\u001b[1;34m'origyn'\u001b[0m\u001b[1;33m]\u001b[0m \u001b[1;33m=\u001b[0m \u001b[0mdf\u001b[0m\u001b[1;33m[\u001b[0m\u001b[1;34m'directions'\u001b[0m\u001b[1;33m]\u001b[0m\u001b[1;33m.\u001b[0m\u001b[0mapply\u001b[0m\u001b[1;33m(\u001b[0m\u001b[1;32mlambda\u001b[0m \u001b[0mr\u001b[0m\u001b[1;33m:\u001b[0m \u001b[0mr\u001b[0m\u001b[1;33m[\u001b[0m\u001b[1;36m0\u001b[0m\u001b[1;33m]\u001b[0m\u001b[1;33m)\u001b[0m\u001b[1;33m\u001b[0m\u001b[1;33m\u001b[0m\u001b[0m\n\u001b[1;32m----> 2\u001b[1;33m \u001b[0mdf\u001b[0m\u001b[1;33m[\u001b[0m\u001b[1;34m'destination'\u001b[0m\u001b[1;33m]\u001b[0m \u001b[1;33m=\u001b[0m \u001b[0mdf\u001b[0m\u001b[1;33m[\u001b[0m\u001b[1;34m'directions'\u001b[0m\u001b[1;33m]\u001b[0m\u001b[1;33m.\u001b[0m\u001b[0mapply\u001b[0m\u001b[1;33m(\u001b[0m\u001b[1;32mlambda\u001b[0m \u001b[0mr\u001b[0m\u001b[1;33m:\u001b[0m \u001b[0mr\u001b[0m\u001b[1;33m[\u001b[0m\u001b[1;36m1\u001b[0m\u001b[1;33m]\u001b[0m\u001b[1;33m)\u001b[0m\u001b[1;33m\u001b[0m\u001b[1;33m\u001b[0m\u001b[0m\n\u001b[0m",
      "\u001b[1;31mIndexError\u001b[0m: list index out of range"
     ]
    }
   ],
   "source": [
    "df['origyn'] = df['directions'].apply(lambda r: r[0])\n",
    "df['destination'] = df['directions'].apply(lambda r: r[1])"
   ]
  },
  {
   "cell_type": "code",
   "execution_count": 80,
   "metadata": {},
   "outputs": [
    {
     "output_type": "execute_result",
     "data": {
      "text/plain": "              directions                                              ports  \\\n1                  [nan]                                                NaN   \n2                  [nan]                                                NaN   \n3  [10.0.2.6, 10.0.2.25]  User Datagram Protocol, Src Port: 68, Dst Port...   \n4  [10.0.2.25, 10.0.2.6]  User Datagram Protocol, Src Port: 67, Dst Port...   \n5   [10.0.2.6, 10.0.2.2]  User Datagram Protocol, Src Port: 35855, Dst P...   \n\n                                      action     origyn  \n1           Who has 10.0.2.25? Tell 10.0.2.6        nan  \n2          10.0.2.25 is at 00:50:56:fc:6f:0d        nan  \n3  DHCP Request  - Transaction ID 0xa8ac8ab8   10.0.2.6  \n4  DHCP ACK      - Transaction ID 0xa8ac8ab8  10.0.2.25  \n5        Standard query 0xe08e A www.eff.org   10.0.2.6  ",
      "text/html": "<div>\n<style scoped>\n    .dataframe tbody tr th:only-of-type {\n        vertical-align: middle;\n    }\n\n    .dataframe tbody tr th {\n        vertical-align: top;\n    }\n\n    .dataframe thead th {\n        text-align: right;\n    }\n</style>\n<table border=\"1\" class=\"dataframe\">\n  <thead>\n    <tr style=\"text-align: right;\">\n      <th></th>\n      <th>directions</th>\n      <th>ports</th>\n      <th>action</th>\n      <th>origyn</th>\n    </tr>\n  </thead>\n  <tbody>\n    <tr>\n      <td>1</td>\n      <td>[nan]</td>\n      <td>NaN</td>\n      <td>Who has 10.0.2.25? Tell 10.0.2.6</td>\n      <td>nan</td>\n    </tr>\n    <tr>\n      <td>2</td>\n      <td>[nan]</td>\n      <td>NaN</td>\n      <td>10.0.2.25 is at 00:50:56:fc:6f:0d</td>\n      <td>nan</td>\n    </tr>\n    <tr>\n      <td>3</td>\n      <td>[10.0.2.6, 10.0.2.25]</td>\n      <td>User Datagram Protocol, Src Port: 68, Dst Port...</td>\n      <td>DHCP Request  - Transaction ID 0xa8ac8ab8</td>\n      <td>10.0.2.6</td>\n    </tr>\n    <tr>\n      <td>4</td>\n      <td>[10.0.2.25, 10.0.2.6]</td>\n      <td>User Datagram Protocol, Src Port: 67, Dst Port...</td>\n      <td>DHCP ACK      - Transaction ID 0xa8ac8ab8</td>\n      <td>10.0.2.25</td>\n    </tr>\n    <tr>\n      <td>5</td>\n      <td>[10.0.2.6, 10.0.2.2]</td>\n      <td>User Datagram Protocol, Src Port: 35855, Dst P...</td>\n      <td>Standard query 0xe08e A www.eff.org</td>\n      <td>10.0.2.6</td>\n    </tr>\n  </tbody>\n</table>\n</div>"
     },
     "metadata": {},
     "execution_count": 80
    }
   ],
   "source": [
    "df.head()"
   ]
  },
  {
   "cell_type": "code",
   "execution_count": 81,
   "metadata": {},
   "outputs": [
    {
     "output_type": "execute_result",
     "data": {
      "text/plain": "'10.0.2.6'"
     },
     "metadata": {},
     "execution_count": 81
    }
   ],
   "source": [
    "sample = df.iloc[2, 0]\n",
    "sample[0]"
   ]
  },
  {
   "cell_type": "code",
   "execution_count": 82,
   "metadata": {},
   "outputs": [
    {
     "output_type": "error",
     "ename": "AttributeError",
     "evalue": "'list' object has no attribute 'split'",
     "traceback": [
      "\u001b[1;31m---------------------------------------------------------------------------\u001b[0m",
      "\u001b[1;31mAttributeError\u001b[0m                            Traceback (most recent call last)",
      "\u001b[1;32m<ipython-input-82-d7d1b24b2856>\u001b[0m in \u001b[0;36m<module>\u001b[1;34m\u001b[0m\n\u001b[1;32m----> 1\u001b[1;33m \u001b[0msample\u001b[0m \u001b[1;33m=\u001b[0m \u001b[0mlist\u001b[0m\u001b[1;33m(\u001b[0m\u001b[0msample\u001b[0m\u001b[1;33m.\u001b[0m\u001b[0msplit\u001b[0m\u001b[1;33m(\u001b[0m\u001b[1;34m','\u001b[0m\u001b[1;33m)\u001b[0m\u001b[1;33m)\u001b[0m\u001b[1;33m\u001b[0m\u001b[1;33m\u001b[0m\u001b[0m\n\u001b[0m\u001b[0;32m      2\u001b[0m \u001b[0msample\u001b[0m\u001b[1;33m[\u001b[0m\u001b[1;36m0\u001b[0m\u001b[1;33m]\u001b[0m\u001b[1;33m,\u001b[0m \u001b[0msample\u001b[0m\u001b[1;33m[\u001b[0m\u001b[1;36m1\u001b[0m\u001b[1;33m]\u001b[0m\u001b[1;33m\u001b[0m\u001b[1;33m\u001b[0m\u001b[0m\n",
      "\u001b[1;31mAttributeError\u001b[0m: 'list' object has no attribute 'split'"
     ]
    }
   ],
   "source": [
    "sample = list(sample.split(','))\n",
    "sample[0], sample[1]"
   ]
  }
 ],
 "metadata": {
  "language_info": {
   "codemirror_mode": {
    "name": "ipython",
    "version": 3
   },
   "file_extension": ".py",
   "mimetype": "text/x-python",
   "name": "python",
   "nbconvert_exporter": "python",
   "pygments_lexer": "ipython3",
   "version": "3.7.4-final"
  },
  "orig_nbformat": 2,
  "kernelspec": {
   "name": "python3",
   "display_name": "Python 3"
  }
 },
 "nbformat": 4,
 "nbformat_minor": 2
}