{
 "metadata": {
  "language_info": {
   "codemirror_mode": {
    "name": "ipython",
    "version": 3
   },
   "file_extension": ".py",
   "mimetype": "text/x-python",
   "name": "python",
   "nbconvert_exporter": "python",
   "pygments_lexer": "ipython3",
   "version": 3
  },
  "orig_nbformat": 2,
  "kernelspec": {
   "name": "python_defaultSpec_1595427043918",
   "display_name": "Python 3.7.4 64-bit ('base': conda)"
  }
 },
 "nbformat": 4,
 "nbformat_minor": 2,
 "cells": [
  {
   "cell_type": "markdown",
   "metadata": {},
   "source": [
    "## Model creation for prediction\n",
    "### Libraries"
   ]
  },
  {
   "cell_type": "code",
   "execution_count": 10,
   "metadata": {},
   "outputs": [],
   "source": [
    "import pandas as pd\n",
    "import numpy as np\n",
    "from datetime import date"
   ]
  },
  {
   "cell_type": "code",
   "execution_count": 11,
   "metadata": {},
   "outputs": [],
   "source": [
    "import functions as func"
   ]
  },
  {
   "cell_type": "markdown",
   "metadata": {},
   "source": [
    "## Data and model creation\n",
    "The data is splitted using random_state= 42 and a 67 to 33% train-test ratio. The learning_rate of the model is set to 0.5."
   ]
  },
  {
   "cell_type": "code",
   "execution_count": 12,
   "metadata": {},
   "outputs": [
    {
     "output_type": "execute_result",
     "data": {
      "text/plain": "                                   date       time   duration     source  \\\n0  Jul 13, 2020 15:28:31.152545818 CEST  60.924132  49.202835  10.0.2.15   \n\n  src_port destination dest_port protocol  length  \\\n0    37232   10.0.2.13        80      TCP      74   \n\n                                                info type_of_attack machine  \\\n0  37232  >  80 [SYN] Seq=0 Win=64240 Len=0 MSS=1...      Dirbuster     DVL   \n\n   exito  attack flag  lb_protocol  lb_type_of_attack  lb_machine  lb_flag  \n0      1       1  SYN           60                  1           1       53  ",
      "text/html": "<div>\n<style scoped>\n    .dataframe tbody tr th:only-of-type {\n        vertical-align: middle;\n    }\n\n    .dataframe tbody tr th {\n        vertical-align: top;\n    }\n\n    .dataframe thead th {\n        text-align: right;\n    }\n</style>\n<table border=\"1\" class=\"dataframe\">\n  <thead>\n    <tr style=\"text-align: right;\">\n      <th></th>\n      <th>date</th>\n      <th>time</th>\n      <th>duration</th>\n      <th>source</th>\n      <th>src_port</th>\n      <th>destination</th>\n      <th>dest_port</th>\n      <th>protocol</th>\n      <th>length</th>\n      <th>info</th>\n      <th>type_of_attack</th>\n      <th>machine</th>\n      <th>exito</th>\n      <th>attack</th>\n      <th>flag</th>\n      <th>lb_protocol</th>\n      <th>lb_type_of_attack</th>\n      <th>lb_machine</th>\n      <th>lb_flag</th>\n    </tr>\n  </thead>\n  <tbody>\n    <tr>\n      <td>0</td>\n      <td>Jul 13, 2020 15:28:31.152545818 CEST</td>\n      <td>60.924132</td>\n      <td>49.202835</td>\n      <td>10.0.2.15</td>\n      <td>37232</td>\n      <td>10.0.2.13</td>\n      <td>80</td>\n      <td>TCP</td>\n      <td>74</td>\n      <td>37232  &gt;  80 [SYN] Seq=0 Win=64240 Len=0 MSS=1...</td>\n      <td>Dirbuster</td>\n      <td>DVL</td>\n      <td>1</td>\n      <td>1</td>\n      <td>SYN</td>\n      <td>60</td>\n      <td>1</td>\n      <td>1</td>\n      <td>53</td>\n    </tr>\n  </tbody>\n</table>\n</div>"
     },
     "metadata": {},
     "execution_count": 12
    }
   ],
   "source": [
    "df = pd.read_csv(r'F:\\Programacion\\1.BOOTCAMP\\data\\trabajo_interdisciplinar\\df_ready\\data_final_categorical.csv')\n",
    "df = df.drop(['Unnamed: 0'], axis = 1)\n",
    "df.head(1)"
   ]
  },
  {
   "cell_type": "code",
   "execution_count": 13,
   "metadata": {},
   "outputs": [],
   "source": [
    "machines = pd.read_csv(r'F:\\Programacion\\1.BOOTCAMP\\data\\trabajo_interdisciplinar\\df_ready\\machine_labels.csv')"
   ]
  },
  {
   "cell_type": "code",
   "execution_count": 14,
   "metadata": {
    "tags": []
   },
   "outputs": [
    {
     "output_type": "stream",
     "name": "stdout",
     "text": "Predicting attack in data:\nClasses in dataframe {0: 377720, 1: 315579}\n\t- Class 0 represents 54.48 % of the whole data\n\t- Class 1 represents 45.52 % of the whole data\n\n\nClassification Report\n              precision    recall  f1-score   support\n\n           0       1.00      1.00      1.00    124691\n           1       1.00      1.00      1.00    104098\n\n    accuracy                           1.00    228789\n   macro avg       1.00      1.00      1.00    228789\nweighted avg       1.00      1.00      1.00    228789\n\nOverall accuracy: 100.0%\n"
    },
    {
     "output_type": "execute_result",
     "data": {
      "text/plain": "XGBClassifier(base_score=0.5, booster='gbtree', colsample_bylevel=1,\n              colsample_bynode=1, colsample_bytree=1, gamma=0, gpu_id=-1,\n              importance_type='gain', interaction_constraints='',\n              learning_rate=0.5, max_delta_step=0, max_depth=6,\n              min_child_weight=1, missing=nan, monotone_constraints='()',\n              n_estimators=100, n_jobs=0, num_parallel_tree=1,\n              objective='binary:logistic', random_state=0, reg_alpha=0,\n              reg_lambda=1, scale_pos_weight=1, subsample=1,\n              tree_method='exact', validate_parameters=1, verbosity=None)"
     },
     "metadata": {},
     "execution_count": 14
    }
   ],
   "source": [
    "xgb_model = func.to_ML(df, 'attack')\n",
    "xgb_model"
   ]
  },
  {
   "cell_type": "code",
   "execution_count": 15,
   "metadata": {
    "tags": []
   },
   "outputs": [
    {
     "output_type": "stream",
     "name": "stdout",
     "text": "Predicting exito in data:\nClasses in dataframe {1: 253250, 0: 62329}\n\t- Class 1 represents 80.25 % of the whole data\n\t- Class 0 represents 19.75 % of the whole data\n\n\nClassification Report\n              precision    recall  f1-score   support\n\n           0       1.00      1.00      1.00     20585\n           1       1.00      1.00      1.00     83557\n\n    accuracy                           1.00    104142\n   macro avg       1.00      1.00      1.00    104142\nweighted avg       1.00      1.00      1.00    104142\n\nOverall accuracy: 99.95%\n"
    },
    {
     "output_type": "execute_result",
     "data": {
      "text/plain": "XGBClassifier(base_score=0.5, booster='gbtree', colsample_bylevel=1,\n              colsample_bynode=1, colsample_bytree=1, gamma=0, gpu_id=-1,\n              importance_type='gain', interaction_constraints='',\n              learning_rate=0.5, max_delta_step=0, max_depth=6,\n              min_child_weight=1, missing=nan, monotone_constraints='()',\n              n_estimators=100, n_jobs=0, num_parallel_tree=1,\n              objective='binary:logistic', random_state=0, reg_alpha=0,\n              reg_lambda=1, scale_pos_weight=1, subsample=1,\n              tree_method='exact', validate_parameters=1, verbosity=None)"
     },
     "metadata": {},
     "execution_count": 15
    }
   ],
   "source": [
    "xgb_model_2 = func.to_ML_attack(df, 'exito')\n",
    "xgb_model_2"
   ]
  },
  {
   "cell_type": "code",
   "execution_count": 16,
   "metadata": {
    "tags": []
   },
   "outputs": [
    {
     "output_type": "stream",
     "name": "stdout",
     "text": "Predicting lb_machine in data:\nClasses in dataframe {5: 128238, 1: 73113, 3: 50081, 2: 43872, 4: 20275}\n\t- Class 5 represents 40.64 % of the whole data\n\t- Class 1 represents 23.17 % of the whole data\n\t- Class 3 represents 15.87 % of the whole data\n\t- Class 2 represents 13.9 % of the whole data\n\t- Class 4 represents 6.42 % of the whole data\n\n\nClassification Report\n              precision    recall  f1-score   support\n\n           1       1.00      1.00      1.00     24127\n           2       1.00      1.00      1.00     14455\n           3       1.00      1.00      1.00     16466\n           4       1.00      1.00      1.00      6646\n           5       1.00      1.00      1.00     42448\n\n    accuracy                           1.00    104142\n   macro avg       1.00      1.00      1.00    104142\nweighted avg       1.00      1.00      1.00    104142\n\nOverall accuracy: 100.0%\n"
    },
    {
     "output_type": "execute_result",
     "data": {
      "text/plain": "XGBClassifier(base_score=0.5, booster='gbtree', colsample_bylevel=1,\n              colsample_bynode=1, colsample_bytree=1, gamma=0, gpu_id=-1,\n              importance_type='gain', interaction_constraints='',\n              learning_rate=0.5, max_delta_step=0, max_depth=6,\n              min_child_weight=1, missing=nan, monotone_constraints='()',\n              n_estimators=100, n_jobs=0, num_parallel_tree=1,\n              objective='multi:softprob', random_state=0, reg_alpha=0,\n              reg_lambda=1, scale_pos_weight=None, subsample=1,\n              tree_method='exact', validate_parameters=1, verbosity=None)"
     },
     "metadata": {},
     "execution_count": 16
    }
   ],
   "source": [
    "xgb_model_3 = func.to_ML_attack(df, 'lb_machine')\n",
    "xgb_model_3"
   ]
  },
  {
   "cell_type": "markdown",
   "metadata": {},
   "source": [
    "## Data for prediction"
   ]
  },
  {
   "cell_type": "code",
   "execution_count": 17,
   "metadata": {},
   "outputs": [
    {
     "output_type": "execute_result",
     "data": {
      "text/plain": "Index(['date', 'time', 'duration', 'source', 'src_port', 'destination',\n       'dest_port', 'protocol', 'length', 'info', 'type_of_attack', 'machine',\n       'exito', 'attack', 'flag', 'lb_protocol', 'lb_type_of_attack',\n       'lb_machine', 'lb_flag'],\n      dtype='object')"
     },
     "metadata": {},
     "execution_count": 17
    }
   ],
   "source": [
    "df_copy = df.copy()\n",
    "df_copy.columns"
   ]
  },
  {
   "cell_type": "code",
   "execution_count": 26,
   "metadata": {
    "tags": []
   },
   "outputs": [
    {
     "output_type": "stream",
     "name": "stdout",
     "text": "There was an attack an attack!\n\nIt was successfull\n...\nIt was commited with a Windowsploitable7\n\n\t\t\t---Attack info---\ndate                           Jul  9, 2020 23:05:42.585301457 CEST\nduration                                                 2.6613e-05\nsrc_port                                                      32786\ndestination                                               10.0.2.15\ndest_port                                                       443\nprotocol                                                        TCP\nlength                                                           66\ninfo              32786  >  443 [ACK] Seq=367 Ack=1492 Win=64128...\ntype_of_attack                                               Nessus\nName: 251991, dtype: object\n"
    }
   ],
   "source": [
    "random = np.random.randint(len(df.index))\n",
    "to_predict = df_copy.loc[random,:]\n",
    "\n",
    "y_pred = func.predict_what(to_predict, 'attack', xgb_model)\n",
    "\n",
    "if y_pred == 1:\n",
    "    print('There was an attack an attack!\\n')\n",
    "    y_pred = func.predict_what(to_predict, 'exito', xgb_model_2)\n",
    "    \n",
    "    if y_pred == 1:\n",
    "        print('It was successfull\\n...')\n",
    "        y_pred = func.predict_what(to_predict, 'lb_machine', xgb_model_3)[0]\n",
    "        \n",
    "        machine = machines['machine'].loc[machines['lb_machine'] == y_pred].iloc[0]\n",
    "        info = to_predict[['date', 'duration', 'src_port', 'destination',\n",
    "       'dest_port', 'protocol', 'length', 'info', 'type_of_attack']]\n",
    "\n",
    "        print(f'It was commited with a {machine}\\n')\n",
    "        print('\\t\\t\\t---Attack info---')\n",
    "        print(f'{info}')\n",
    "    else:\n",
    "        print(f'The attack was not successfull')\n",
    "else:\n",
    "    print(f'Nothing to worry about')"
   ]
  },
  {
   "cell_type": "code",
   "execution_count": 28,
   "metadata": {},
   "outputs": [],
   "source": [
    "func.report_maker()"
   ]
  }
 ]
}