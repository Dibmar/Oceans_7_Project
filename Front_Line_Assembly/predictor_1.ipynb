{
 "metadata": {
  "language_info": {
   "codemirror_mode": {
    "name": "ipython",
    "version": 3
   },
   "file_extension": ".py",
   "mimetype": "text/x-python",
   "name": "python",
   "nbconvert_exporter": "python",
   "pygments_lexer": "ipython3",
   "version": 3
  },
  "orig_nbformat": 2,
  "kernelspec": {
   "name": "python_defaultSpec_1595168227841",
   "display_name": "Python 3.7.4 64-bit ('base': conda)"
  }
 },
 "nbformat": 4,
 "nbformat_minor": 2,
 "cells": [
  {
   "cell_type": "markdown",
   "metadata": {},
   "source": [
    "## Model creation for prediction\n",
    "### Libraries"
   ]
  },
  {
   "cell_type": "code",
   "execution_count": 1,
   "metadata": {},
   "outputs": [],
   "source": [
    "import pandas as pd\n",
    "import numpy as np"
   ]
  },
  {
   "cell_type": "code",
   "execution_count": 2,
   "metadata": {},
   "outputs": [],
   "source": [
    "from sklearn.metrics import confusion_matrix\n",
    "from sklearn.preprocessing import MinMaxScaler\n",
    "from sklearn.model_selection import train_test_split\n",
    "from sklearn.metrics import classification_report\n",
    "from xgboost import XGBClassifier"
   ]
  },
  {
   "cell_type": "code",
   "execution_count": 3,
   "metadata": {},
   "outputs": [],
   "source": [
    "import seaborn as sns\n",
    "import matplotlib.pyplot as plt\n",
    "%matplotlib inline"
   ]
  },
  {
   "cell_type": "markdown",
   "metadata": {},
   "source": [
    "## Data and creation model"
   ]
  },
  {
   "cell_type": "code",
   "execution_count": 4,
   "metadata": {},
   "outputs": [
    {
     "output_type": "execute_result",
     "data": {
      "text/plain": "   Unnamed: 0  Unnamed: 0.1                                  date       time  \\\n0           0             1  Jul 13, 2020 15:28:31.152545818 CEST  60.924132   \n\n    duration     source src_port destination dest_port protocol  length  \\\n0  49.202835  10.0.2.15  37232.0   10.0.2.13      80.0      TCP      74   \n\n                                                info  attack flag  lb_protocol  \n0  37232  >  80 [SYN] Seq=0 Win=64240 Len=0 MSS=1...       1  SYN           60  ",
      "text/html": "<div>\n<style scoped>\n    .dataframe tbody tr th:only-of-type {\n        vertical-align: middle;\n    }\n\n    .dataframe tbody tr th {\n        vertical-align: top;\n    }\n\n    .dataframe thead th {\n        text-align: right;\n    }\n</style>\n<table border=\"1\" class=\"dataframe\">\n  <thead>\n    <tr style=\"text-align: right;\">\n      <th></th>\n      <th>Unnamed: 0</th>\n      <th>Unnamed: 0.1</th>\n      <th>date</th>\n      <th>time</th>\n      <th>duration</th>\n      <th>source</th>\n      <th>src_port</th>\n      <th>destination</th>\n      <th>dest_port</th>\n      <th>protocol</th>\n      <th>length</th>\n      <th>info</th>\n      <th>attack</th>\n      <th>flag</th>\n      <th>lb_protocol</th>\n    </tr>\n  </thead>\n  <tbody>\n    <tr>\n      <td>0</td>\n      <td>0</td>\n      <td>1</td>\n      <td>Jul 13, 2020 15:28:31.152545818 CEST</td>\n      <td>60.924132</td>\n      <td>49.202835</td>\n      <td>10.0.2.15</td>\n      <td>37232.0</td>\n      <td>10.0.2.13</td>\n      <td>80.0</td>\n      <td>TCP</td>\n      <td>74</td>\n      <td>37232  &gt;  80 [SYN] Seq=0 Win=64240 Len=0 MSS=1...</td>\n      <td>1</td>\n      <td>SYN</td>\n      <td>60</td>\n    </tr>\n  </tbody>\n</table>\n</div>"
     },
     "metadata": {},
     "execution_count": 4
    }
   ],
   "source": [
    "df = pd.read_csv(r'F:\\Programacion\\1.BOOTCAMP\\data\\trabajo_interdisciplinar\\df_ready\\whole_encoded.csv')\n",
    "df.head(1)"
   ]
  },
  {
   "cell_type": "code",
   "execution_count": 5,
   "metadata": {},
   "outputs": [
    {
     "output_type": "execute_result",
     "data": {
      "text/plain": "                                   date       time   duration     source  \\\n0  Jul 13, 2020 15:28:31.152545818 CEST  60.924132  49.202835  10.0.2.15   \n\n  src_port destination dest_port protocol  length  \\\n0  37232.0   10.0.2.13      80.0      TCP      74   \n\n                                                info  attack flag  lb_protocol  \n0  37232  >  80 [SYN] Seq=0 Win=64240 Len=0 MSS=1...       1  SYN           60  ",
      "text/html": "<div>\n<style scoped>\n    .dataframe tbody tr th:only-of-type {\n        vertical-align: middle;\n    }\n\n    .dataframe tbody tr th {\n        vertical-align: top;\n    }\n\n    .dataframe thead th {\n        text-align: right;\n    }\n</style>\n<table border=\"1\" class=\"dataframe\">\n  <thead>\n    <tr style=\"text-align: right;\">\n      <th></th>\n      <th>date</th>\n      <th>time</th>\n      <th>duration</th>\n      <th>source</th>\n      <th>src_port</th>\n      <th>destination</th>\n      <th>dest_port</th>\n      <th>protocol</th>\n      <th>length</th>\n      <th>info</th>\n      <th>attack</th>\n      <th>flag</th>\n      <th>lb_protocol</th>\n    </tr>\n  </thead>\n  <tbody>\n    <tr>\n      <td>0</td>\n      <td>Jul 13, 2020 15:28:31.152545818 CEST</td>\n      <td>60.924132</td>\n      <td>49.202835</td>\n      <td>10.0.2.15</td>\n      <td>37232.0</td>\n      <td>10.0.2.13</td>\n      <td>80.0</td>\n      <td>TCP</td>\n      <td>74</td>\n      <td>37232  &gt;  80 [SYN] Seq=0 Win=64240 Len=0 MSS=1...</td>\n      <td>1</td>\n      <td>SYN</td>\n      <td>60</td>\n    </tr>\n  </tbody>\n</table>\n</div>"
     },
     "metadata": {},
     "execution_count": 5
    }
   ],
   "source": [
    "df = df.drop(['Unnamed: 0', 'Unnamed: 0.1'], axis = 1)\n",
    "df.head(1)"
   ]
  },
  {
   "cell_type": "code",
   "execution_count": 54,
   "metadata": {},
   "outputs": [],
   "source": [
    "def counter(counter):\n",
    "    \"\"\"\n",
    "    ---What it does---\n",
    "    Counter system to show progress of function\n",
    "    \"\"\"\n",
    "    counter += 1\n",
    "    sys.stdout.write(\"\\r {0} %\".format(counter))\n",
    "    sys.stdout.flush()"
   ]
  },
  {
   "cell_type": "code",
   "execution_count": 6,
   "metadata": {},
   "outputs": [],
   "source": [
    "def to_ML (df):\n",
    "    \"\"\"\n",
    "    ---What it does---\n",
    "    Creates a XGBClassifier model. Printing the overall accuracy and a classification report to asess performance.\n",
    "    ---What it needs---\n",
    "        + A df object with numerical columns (by default named 'time', 'duration', 'lenght' and 'lb_protocol').\n",
    "        + The necessary libraries for XGBClassifier to work\n",
    "            * confusion_matrix (sklearn)\n",
    "            * MinMaxScaler (sklearn)\n",
    "            * train_test_split (sklearn)\n",
    "            * classification_report (sklearn)\n",
    "            * XGBClassifier (xgboost)\n",
    "    ---What it returns---\n",
    "    The XGBClassifier model with learning_rate = 0.5\n",
    "    \"\"\"\n",
    "    \n",
    "    # Splittig of data\n",
    "    X = df[['time', 'duration', 'length', 'lb_protocol']]\n",
    "    y = df['attack']\n",
    "\n",
    "    X_train, X_test, y_train, y_test = train_test_split(X, y, test_size=0.33, random_state=42)\n",
    "\n",
    "    balance_ratio = dict(y.value_counts())\n",
    "    print(f'Classes in dataframe {balance_ratio}')\n",
    "    print(f\"Class 1 represents {round(balance_ratio[1]*100/(balance_ratio[0] + balance_ratio[1]) , 2)} % of the whole data\\n\")\n",
    "\n",
    "    # Scaling data\n",
    "    scaler = MinMaxScaler()\n",
    "    X_train = scaler.fit_transform(X_train)\n",
    "    X_test = scaler.transform(X_test)\n",
    "\n",
    "    # Creation of the model\n",
    "    xgb_model = XGBClassifier(learning_rate=0.5)\n",
    "    xgb_model.fit(X_train, y_train)\n",
    "\n",
    "    # Reporting on performance\n",
    "    y_pred = xgb_model.predict(X_test)\n",
    "    m = confusion_matrix(y_test, y_pred)\n",
    "    precission = (m[0][0] + m[1][1]) / (m.sum())\n",
    "\n",
    "    print(\"Classification Report\")\n",
    "    print(classification_report(y_test, y_pred))\n",
    "    print(f\"Overall accuracy: {round(precission*100, 2)}%\")\n",
    "\n",
    "    return xgb_model"
   ]
  },
  {
   "cell_type": "code",
   "execution_count": 7,
   "metadata": {
    "tags": []
   },
   "outputs": [
    {
     "output_type": "stream",
     "name": "stdout",
     "text": "Classes in dataframe {0: 377720, 1: 315579}\nClass 1 represents 45.52 % of the whole data\n\nClassification Report\n              precision    recall  f1-score   support\n\n           0       0.92      0.88      0.90    124691\n           1       0.86      0.91      0.89    104098\n\n    accuracy                           0.89    228789\n   macro avg       0.89      0.90      0.89    228789\nweighted avg       0.90      0.89      0.89    228789\n\nOverall accuracy: 89.43%\n"
    },
    {
     "output_type": "execute_result",
     "data": {
      "text/plain": "XGBClassifier(base_score=0.5, booster='gbtree', colsample_bylevel=1,\n              colsample_bynode=1, colsample_bytree=1, gamma=0, gpu_id=-1,\n              importance_type='gain', interaction_constraints='',\n              learning_rate=0.5, max_delta_step=0, max_depth=6,\n              min_child_weight=1, missing=nan, monotone_constraints='()',\n              n_estimators=100, n_jobs=0, num_parallel_tree=1,\n              objective='binary:logistic', random_state=0, reg_alpha=0,\n              reg_lambda=1, scale_pos_weight=1, subsample=1,\n              tree_method='exact', validate_parameters=1, verbosity=None)"
     },
     "metadata": {},
     "execution_count": 7
    }
   ],
   "source": [
    "xgb_model = to_ML(df)\n",
    "xgb_model"
   ]
  },
  {
   "cell_type": "markdown",
   "metadata": {},
   "source": [
    "## Data for prediction"
   ]
  },
  {
   "cell_type": "code",
   "execution_count": 34,
   "metadata": {},
   "outputs": [
    {
     "output_type": "execute_result",
     "data": {
      "text/plain": "Index(['date', 'time', 'duration', 'source', 'src_port', 'destination',\n       'dest_port', 'protocol', 'length', 'info', 'attack', 'flag',\n       'lb_protocol'],\n      dtype='object')"
     },
     "metadata": {},
     "execution_count": 34
    }
   ],
   "source": [
    "df_copy = df.copy()\n",
    "# df_copy = df_copy.drop('attack', axis = 1)\n",
    "# df_copy.insert(df_copy.shape[1], 'attack', np.nan)\n",
    "df_copy.columns"
   ]
  },
  {
   "cell_type": "code",
   "execution_count": 55,
   "metadata": {
    "tags": []
   },
   "outputs": [
    {
     "output_type": "stream",
     "name": "stdout",
     "text": "1387 %\n\n553533 is an attack\n"
    }
   ],
   "source": [
    "t = 0\n",
    "n_pruebas = 100000\n",
    "for e in range (n_pruebas):\n",
    "    random = np.random.randint(len(df.index))\n",
    "\n",
    "    to_predict = df_copy.loc[random,:]\n",
    "    real_class = to_predict['attack']\n",
    "    to_predict = to_predict[['time', 'duration', 'length', 'lb_protocol']].astype('double')\n",
    "\n",
    "    y_pred = xgb_model.predict(to_predict)\n",
    "    if(y_pred == real_class):\n",
    "        t+=1\n",
    "    counter(t*100/n_pruebas)\n",
    "    if y_pred == 1:\n",
    "        break\n",
    "\n",
    "print('\\n')\n",
    "if y_pred == 1:\n",
    "    print(f'{random} is an attack')\n",
    "else:\n",
    "    print(f'{random} is nothing to worry about')"
   ]
  }
 ]
}