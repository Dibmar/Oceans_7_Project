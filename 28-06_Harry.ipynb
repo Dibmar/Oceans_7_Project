{
 "cells": [
  {
   "cell_type": "code",
   "execution_count": 1,
   "metadata": {},
   "outputs": [],
   "source": [
    "import pandas as pd\n",
    "import numpy as np\n",
    "import ast\n",
    "\n",
    "import matplotlib.pyplot as plt\n",
    "%matplotlib inline"
   ]
  },
  {
   "cell_type": "code",
   "execution_count": 2,
   "metadata": {
    "tags": []
   },
   "outputs": [
    {
     "output_type": "error",
     "ename": "ParserError",
     "evalue": "Expected 13 fields in line 40, saw 14. Error could possibly be due to quotes being ignored when a multi-char delimiter is used.",
     "traceback": [
      "\u001b[1;31m---------------------------------------------------------------------------\u001b[0m",
      "\u001b[1;31mParserError\u001b[0m                               Traceback (most recent call last)",
      "\u001b[1;32m<ipython-input-2-3bcb5a53db80>\u001b[0m in \u001b[0;36m<module>\u001b[1;34m\u001b[0m\n\u001b[1;32m----> 1\u001b[1;33m \u001b[0mdf\u001b[0m \u001b[1;33m=\u001b[0m \u001b[0mpd\u001b[0m\u001b[1;33m.\u001b[0m\u001b[0mread_csv\u001b[0m\u001b[1;33m(\u001b[0m\u001b[1;34mr'F:\\Programacion\\1.BOOTCAMP\\data\\trabajo_interdisciplinar\\simulacro_ataque_28-06 (1).csv'\u001b[0m\u001b[1;33m,\u001b[0m \u001b[0msep\u001b[0m \u001b[1;33m=\u001b[0m \u001b[1;34m'[,]'\u001b[0m\u001b[1;33m)\u001b[0m\u001b[1;33m\u001b[0m\u001b[1;33m\u001b[0m\u001b[0m\n\u001b[0m\u001b[0;32m      2\u001b[0m \u001b[0mdf2\u001b[0m \u001b[1;33m=\u001b[0m \u001b[0mpd\u001b[0m\u001b[1;33m.\u001b[0m\u001b[0mread_csv\u001b[0m\u001b[1;33m(\u001b[0m\u001b[1;34mr'F:\\Programacion\\1.BOOTCAMP\\data\\trabajo_interdisciplinar\\simulacro_ataque_28-06 (2).csv'\u001b[0m\u001b[1;33m,\u001b[0m \u001b[0msep\u001b[0m \u001b[1;33m=\u001b[0m \u001b[1;34m'[,]'\u001b[0m\u001b[1;33m)\u001b[0m\u001b[1;33m\u001b[0m\u001b[1;33m\u001b[0m\u001b[0m\n\u001b[0;32m      3\u001b[0m \u001b[0mdf\u001b[0m\u001b[1;33m.\u001b[0m\u001b[0mhead\u001b[0m\u001b[1;33m(\u001b[0m\u001b[1;33m)\u001b[0m\u001b[1;33m\u001b[0m\u001b[1;33m\u001b[0m\u001b[0m\n",
      "\u001b[1;32mF:\\Programacion\\lib\\site-packages\\pandas\\io\\parsers.py\u001b[0m in \u001b[0;36mparser_f\u001b[1;34m(filepath_or_buffer, sep, delimiter, header, names, index_col, usecols, squeeze, prefix, mangle_dupe_cols, dtype, engine, converters, true_values, false_values, skipinitialspace, skiprows, skipfooter, nrows, na_values, keep_default_na, na_filter, verbose, skip_blank_lines, parse_dates, infer_datetime_format, keep_date_col, date_parser, dayfirst, cache_dates, iterator, chunksize, compression, thousands, decimal, lineterminator, quotechar, quoting, doublequote, escapechar, comment, encoding, dialect, error_bad_lines, warn_bad_lines, delim_whitespace, low_memory, memory_map, float_precision)\u001b[0m\n\u001b[0;32m    683\u001b[0m         )\n\u001b[0;32m    684\u001b[0m \u001b[1;33m\u001b[0m\u001b[0m\n\u001b[1;32m--> 685\u001b[1;33m         \u001b[1;32mreturn\u001b[0m \u001b[0m_read\u001b[0m\u001b[1;33m(\u001b[0m\u001b[0mfilepath_or_buffer\u001b[0m\u001b[1;33m,\u001b[0m \u001b[0mkwds\u001b[0m\u001b[1;33m)\u001b[0m\u001b[1;33m\u001b[0m\u001b[1;33m\u001b[0m\u001b[0m\n\u001b[0m\u001b[0;32m    686\u001b[0m \u001b[1;33m\u001b[0m\u001b[0m\n\u001b[0;32m    687\u001b[0m     \u001b[0mparser_f\u001b[0m\u001b[1;33m.\u001b[0m\u001b[0m__name__\u001b[0m \u001b[1;33m=\u001b[0m \u001b[0mname\u001b[0m\u001b[1;33m\u001b[0m\u001b[1;33m\u001b[0m\u001b[0m\n",
      "\u001b[1;32mF:\\Programacion\\lib\\site-packages\\pandas\\io\\parsers.py\u001b[0m in \u001b[0;36m_read\u001b[1;34m(filepath_or_buffer, kwds)\u001b[0m\n\u001b[0;32m    461\u001b[0m \u001b[1;33m\u001b[0m\u001b[0m\n\u001b[0;32m    462\u001b[0m     \u001b[1;32mtry\u001b[0m\u001b[1;33m:\u001b[0m\u001b[1;33m\u001b[0m\u001b[1;33m\u001b[0m\u001b[0m\n\u001b[1;32m--> 463\u001b[1;33m         \u001b[0mdata\u001b[0m \u001b[1;33m=\u001b[0m \u001b[0mparser\u001b[0m\u001b[1;33m.\u001b[0m\u001b[0mread\u001b[0m\u001b[1;33m(\u001b[0m\u001b[0mnrows\u001b[0m\u001b[1;33m)\u001b[0m\u001b[1;33m\u001b[0m\u001b[1;33m\u001b[0m\u001b[0m\n\u001b[0m\u001b[0;32m    464\u001b[0m     \u001b[1;32mfinally\u001b[0m\u001b[1;33m:\u001b[0m\u001b[1;33m\u001b[0m\u001b[1;33m\u001b[0m\u001b[0m\n\u001b[0;32m    465\u001b[0m         \u001b[0mparser\u001b[0m\u001b[1;33m.\u001b[0m\u001b[0mclose\u001b[0m\u001b[1;33m(\u001b[0m\u001b[1;33m)\u001b[0m\u001b[1;33m\u001b[0m\u001b[1;33m\u001b[0m\u001b[0m\n",
      "\u001b[1;32mF:\\Programacion\\lib\\site-packages\\pandas\\io\\parsers.py\u001b[0m in \u001b[0;36mread\u001b[1;34m(self, nrows)\u001b[0m\n\u001b[0;32m   1152\u001b[0m     \u001b[1;32mdef\u001b[0m \u001b[0mread\u001b[0m\u001b[1;33m(\u001b[0m\u001b[0mself\u001b[0m\u001b[1;33m,\u001b[0m \u001b[0mnrows\u001b[0m\u001b[1;33m=\u001b[0m\u001b[1;32mNone\u001b[0m\u001b[1;33m)\u001b[0m\u001b[1;33m:\u001b[0m\u001b[1;33m\u001b[0m\u001b[1;33m\u001b[0m\u001b[0m\n\u001b[0;32m   1153\u001b[0m         \u001b[0mnrows\u001b[0m \u001b[1;33m=\u001b[0m \u001b[0m_validate_integer\u001b[0m\u001b[1;33m(\u001b[0m\u001b[1;34m\"nrows\"\u001b[0m\u001b[1;33m,\u001b[0m \u001b[0mnrows\u001b[0m\u001b[1;33m)\u001b[0m\u001b[1;33m\u001b[0m\u001b[1;33m\u001b[0m\u001b[0m\n\u001b[1;32m-> 1154\u001b[1;33m         \u001b[0mret\u001b[0m \u001b[1;33m=\u001b[0m \u001b[0mself\u001b[0m\u001b[1;33m.\u001b[0m\u001b[0m_engine\u001b[0m\u001b[1;33m.\u001b[0m\u001b[0mread\u001b[0m\u001b[1;33m(\u001b[0m\u001b[0mnrows\u001b[0m\u001b[1;33m)\u001b[0m\u001b[1;33m\u001b[0m\u001b[1;33m\u001b[0m\u001b[0m\n\u001b[0m\u001b[0;32m   1155\u001b[0m \u001b[1;33m\u001b[0m\u001b[0m\n\u001b[0;32m   1156\u001b[0m         \u001b[1;31m# May alter columns / col_dict\u001b[0m\u001b[1;33m\u001b[0m\u001b[1;33m\u001b[0m\u001b[1;33m\u001b[0m\u001b[0m\n",
      "\u001b[1;32mF:\\Programacion\\lib\\site-packages\\pandas\\io\\parsers.py\u001b[0m in \u001b[0;36mread\u001b[1;34m(self, rows)\u001b[0m\n\u001b[0;32m   2491\u001b[0m             \u001b[0mcontent\u001b[0m \u001b[1;33m=\u001b[0m \u001b[0mcontent\u001b[0m\u001b[1;33m[\u001b[0m\u001b[1;36m1\u001b[0m\u001b[1;33m:\u001b[0m\u001b[1;33m]\u001b[0m\u001b[1;33m\u001b[0m\u001b[1;33m\u001b[0m\u001b[0m\n\u001b[0;32m   2492\u001b[0m \u001b[1;33m\u001b[0m\u001b[0m\n\u001b[1;32m-> 2493\u001b[1;33m         \u001b[0malldata\u001b[0m \u001b[1;33m=\u001b[0m \u001b[0mself\u001b[0m\u001b[1;33m.\u001b[0m\u001b[0m_rows_to_cols\u001b[0m\u001b[1;33m(\u001b[0m\u001b[0mcontent\u001b[0m\u001b[1;33m)\u001b[0m\u001b[1;33m\u001b[0m\u001b[1;33m\u001b[0m\u001b[0m\n\u001b[0m\u001b[0;32m   2494\u001b[0m         \u001b[0mdata\u001b[0m \u001b[1;33m=\u001b[0m \u001b[0mself\u001b[0m\u001b[1;33m.\u001b[0m\u001b[0m_exclude_implicit_index\u001b[0m\u001b[1;33m(\u001b[0m\u001b[0malldata\u001b[0m\u001b[1;33m)\u001b[0m\u001b[1;33m\u001b[0m\u001b[1;33m\u001b[0m\u001b[0m\n\u001b[0;32m   2495\u001b[0m \u001b[1;33m\u001b[0m\u001b[0m\n",
      "\u001b[1;32mF:\\Programacion\\lib\\site-packages\\pandas\\io\\parsers.py\u001b[0m in \u001b[0;36m_rows_to_cols\u001b[1;34m(self, content)\u001b[0m\n\u001b[0;32m   3155\u001b[0m                     \u001b[0mmsg\u001b[0m \u001b[1;33m+=\u001b[0m \u001b[1;34m\". \"\u001b[0m \u001b[1;33m+\u001b[0m \u001b[0mreason\u001b[0m\u001b[1;33m\u001b[0m\u001b[1;33m\u001b[0m\u001b[0m\n\u001b[0;32m   3156\u001b[0m \u001b[1;33m\u001b[0m\u001b[0m\n\u001b[1;32m-> 3157\u001b[1;33m                 \u001b[0mself\u001b[0m\u001b[1;33m.\u001b[0m\u001b[0m_alert_malformed\u001b[0m\u001b[1;33m(\u001b[0m\u001b[0mmsg\u001b[0m\u001b[1;33m,\u001b[0m \u001b[0mrow_num\u001b[0m \u001b[1;33m+\u001b[0m \u001b[1;36m1\u001b[0m\u001b[1;33m)\u001b[0m\u001b[1;33m\u001b[0m\u001b[1;33m\u001b[0m\u001b[0m\n\u001b[0m\u001b[0;32m   3158\u001b[0m \u001b[1;33m\u001b[0m\u001b[0m\n\u001b[0;32m   3159\u001b[0m         \u001b[1;31m# see gh-13320\u001b[0m\u001b[1;33m\u001b[0m\u001b[1;33m\u001b[0m\u001b[1;33m\u001b[0m\u001b[0m\n",
      "\u001b[1;32mF:\\Programacion\\lib\\site-packages\\pandas\\io\\parsers.py\u001b[0m in \u001b[0;36m_alert_malformed\u001b[1;34m(self, msg, row_num)\u001b[0m\n\u001b[0;32m   2912\u001b[0m \u001b[1;33m\u001b[0m\u001b[0m\n\u001b[0;32m   2913\u001b[0m         \u001b[1;32mif\u001b[0m \u001b[0mself\u001b[0m\u001b[1;33m.\u001b[0m\u001b[0merror_bad_lines\u001b[0m\u001b[1;33m:\u001b[0m\u001b[1;33m\u001b[0m\u001b[1;33m\u001b[0m\u001b[0m\n\u001b[1;32m-> 2914\u001b[1;33m             \u001b[1;32mraise\u001b[0m \u001b[0mParserError\u001b[0m\u001b[1;33m(\u001b[0m\u001b[0mmsg\u001b[0m\u001b[1;33m)\u001b[0m\u001b[1;33m\u001b[0m\u001b[1;33m\u001b[0m\u001b[0m\n\u001b[0m\u001b[0;32m   2915\u001b[0m         \u001b[1;32melif\u001b[0m \u001b[0mself\u001b[0m\u001b[1;33m.\u001b[0m\u001b[0mwarn_bad_lines\u001b[0m\u001b[1;33m:\u001b[0m\u001b[1;33m\u001b[0m\u001b[1;33m\u001b[0m\u001b[0m\n\u001b[0;32m   2916\u001b[0m             \u001b[0mbase\u001b[0m \u001b[1;33m=\u001b[0m \u001b[1;34m\"Skipping line {row_num}: \"\u001b[0m\u001b[1;33m.\u001b[0m\u001b[0mformat\u001b[0m\u001b[1;33m(\u001b[0m\u001b[0mrow_num\u001b[0m\u001b[1;33m=\u001b[0m\u001b[0mrow_num\u001b[0m\u001b[1;33m)\u001b[0m\u001b[1;33m\u001b[0m\u001b[1;33m\u001b[0m\u001b[0m\n",
      "\u001b[1;31mParserError\u001b[0m: Expected 13 fields in line 40, saw 14. Error could possibly be due to quotes being ignored when a multi-char delimiter is used."
     ]
    }
   ],
   "source": [
    "df = pd.read_csv(r'F:\\Programacion\\1.BOOTCAMP\\data\\trabajo_interdisciplinar\\simulacro_ataque_28-06 (1).csv', sep = '[,]')\n",
    "df2 = pd.read_csv(r'F:\\Programacion\\1.BOOTCAMP\\data\\trabajo_interdisciplinar\\simulacro_ataque_28-06 (2).csv', sep = '[,]')\n",
    "df.head()"
   ]
  },
  {
   "cell_type": "code",
   "execution_count": 114,
   "metadata": {},
   "outputs": [],
   "source": [
    "def general_info (df):\n",
    "    \"\"\"\n",
    "                        ---What it does--\n",
    "    This function checks the info, columns and shape of the df, printing them. Also it checks the presence of NaNs values on the df and prints them in case it founds them.\n",
    "\n",
    "                        ---What it needs---\n",
    "    A df object\n",
    "    \"\"\"\n",
    "\n",
    "\n",
    "    # df columns info\n",
    "    print('-dtype, length and name of columns-')\n",
    "    print(df.info())\n",
    "    print()\n",
    "    print(df.columns)\n",
    "    print()\n",
    "    print(df.shape)\n",
    "    print()\n",
    "\n",
    "    # Presence of NaNs in df\n",
    "    need_to_print =  False\n",
    "    nulls = df.isnull().any()\n",
    "    print('-Presence of NaNs in df-')\n",
    "    print (nulls)\n",
    "    for e in list(nulls):\n",
    "        if e == True:\n",
    "            need_to_print = True\n",
    "    if need_to_print == True:\n",
    "        print()\n",
    "        print('-Number of NaNs in df-')\n",
    "        print (df.isnull().sum() )\n",
    "    "
   ]
  },
  {
   "cell_type": "code",
   "execution_count": 115,
   "metadata": {
    "tags": []
   },
   "outputs": [
    {
     "output_type": "stream",
     "name": "stdout",
     "text": "-dtype, length and name of columns-\n<class 'pandas.core.frame.DataFrame'>\nRangeIndex: 17751 entries, 0 to 17750\nData columns (total 2 columns):\nCol_1    17751 non-null object\nCol_2    226 non-null object\ndtypes: object(2)\nmemory usage: 277.5+ KB\nNone\n\nIndex(['Col_1', 'Col_2'], dtype='object')\n\n(17751, 2)\n\n-Presence of NaNs in df-\nCol_1    False\nCol_2     True\ndtype: bool\n\n-Number of NaNs in df-\nCol_1        0\nCol_2    17525\ndtype: int64\n"
    }
   ],
   "source": [
    "general_info(df)"
   ]
  },
  {
   "cell_type": "code",
   "execution_count": 116,
   "metadata": {},
   "outputs": [
    {
     "output_type": "execute_result",
     "data": {
      "text/plain": "                                               Col_1\n0  1 0.000000000 fe80::f938:4562:98cf:a9e0 â†’ ff...\n1  2 3.000458533 fe80::f938:4562:98cf:a9e0 â†’ ff...\n2  3 5.202548542 VMware_1b:c1:f4 â†’ Broadcast   ...\n3  4 5.202548585 VMware_e6:e5:f9 â†’ VMware_1b:c1...\n4  5 5.202792498     10.0.2.9 â†’ 10.0.2.2     NB...",
      "text/html": "<div>\n<style scoped>\n    .dataframe tbody tr th:only-of-type {\n        vertical-align: middle;\n    }\n\n    .dataframe tbody tr th {\n        vertical-align: top;\n    }\n\n    .dataframe thead th {\n        text-align: right;\n    }\n</style>\n<table border=\"1\" class=\"dataframe\">\n  <thead>\n    <tr style=\"text-align: right;\">\n      <th></th>\n      <th>Col_1</th>\n    </tr>\n  </thead>\n  <tbody>\n    <tr>\n      <td>0</td>\n      <td>1 0.000000000 fe80::f938:4562:98cf:a9e0 â†’ ff...</td>\n    </tr>\n    <tr>\n      <td>1</td>\n      <td>2 3.000458533 fe80::f938:4562:98cf:a9e0 â†’ ff...</td>\n    </tr>\n    <tr>\n      <td>2</td>\n      <td>3 5.202548542 VMware_1b:c1:f4 â†’ Broadcast   ...</td>\n    </tr>\n    <tr>\n      <td>3</td>\n      <td>4 5.202548585 VMware_e6:e5:f9 â†’ VMware_1b:c1...</td>\n    </tr>\n    <tr>\n      <td>4</td>\n      <td>5 5.202792498     10.0.2.9 â†’ 10.0.2.2     NB...</td>\n    </tr>\n  </tbody>\n</table>\n</div>"
     },
     "metadata": {},
     "execution_count": 116
    }
   ],
   "source": [
    "df_1 = pd.DataFrame(df['Col_1'])\n",
    "df_1.head()"
   ]
  },
  {
   "cell_type": "code",
   "execution_count": 117,
   "metadata": {},
   "outputs": [],
   "source": [
    "splitter = lambda r: list(r.split(' '))"
   ]
  },
  {
   "cell_type": "code",
   "execution_count": 118,
   "metadata": {},
   "outputs": [
    {
     "output_type": "execute_result",
     "data": {
      "text/plain": "0    1 0.000000000 fe80::f938:4562:98cf:a9e0 â†’ ff...\n1    2 3.000458533 fe80::f938:4562:98cf:a9e0 â†’ ff...\n2    3 5.202548542 VMware_1b:c1:f4 â†’ Broadcast   ...\n3    4 5.202548585 VMware_e6:e5:f9 â†’ VMware_1b:c1...\n4    5 5.202792498     10.0.2.9 â†’ 10.0.2.2     NB...\nName: Col_1, dtype: object"
     },
     "metadata": {},
     "execution_count": 118
    }
   ],
   "source": [
    "df_1['Col_1'].head()"
   ]
  },
  {
   "cell_type": "code",
   "execution_count": 119,
   "metadata": {},
   "outputs": [
    {
     "output_type": "execute_result",
     "data": {
      "text/plain": "75"
     },
     "metadata": {},
     "execution_count": 119
    }
   ],
   "source": [
    "len(df_1.iloc[0,0])"
   ]
  },
  {
   "cell_type": "code",
   "execution_count": 125,
   "metadata": {},
   "outputs": [],
   "source": [
    "def columnist (df, n):\n",
    "    splitter = lambda r: list(r.split(' '))[n]\n",
    "    df =  df['Col_1'].apply(splitter)\n",
    "    return df"
   ]
  },
  {
   "cell_type": "code",
   "execution_count": 131,
   "metadata": {},
   "outputs": [
    {
     "output_type": "execute_result",
     "data": {
      "text/plain": "                                                   Col_1         Col_1b  \\\n0      1 0.000000000 fe80::f938:4562:98cf:a9e0 â†’ ff...    0.000000000   \n1      2 3.000458533 fe80::f938:4562:98cf:a9e0 â†’ ff...    3.000458533   \n2      3 5.202548542 VMware_1b:c1:f4 â†’ Broadcast   ...    5.202548542   \n3      4 5.202548585 VMware_e6:e5:f9 â†’ VMware_1b:c1...    5.202548585   \n4      5 5.202792498     10.0.2.9 â†’ 10.0.2.2     NB...    5.202792498   \n...                                                  ...            ...   \n17746  17747 413.382509166     10.0.2.2 â†’ 10.0.2.6 ...  413.382509166   \n17747  17748 413.382787045     10.0.2.6 â†’ 10.0.2.25...  413.382787045   \n17748  17749 414.579266353     10.0.2.6 â†’ 216.58.20...  414.579266353   \n17749  17750 414.579514510 216.58.209.67 â†’ 10.0.2.6...  414.579514510   \n17750  17751 415.999257802 fe80::f938:4562:98cf:a9e0 ...  415.999257802   \n\n                          Col_1c           Col_1d Col_1e    Col_1f    Col_1g  \\\n0      fe80::f938:4562:98cf:a9e0          ff02::c                              \n1      fe80::f938:4562:98cf:a9e0          ff02::c                              \n2                VMware_1b:c1:f4        Broadcast                              \n3                VMware_e6:e5:f9  VMware_1b:c1:f4    ARP        60  10.0.2.2   \n4                                                         10.0.2.9       â†’   \n...                          ...              ...    ...       ...       ...   \n17746                                                     10.0.2.2       â†’   \n17747                                                     10.0.2.6       â†’   \n17748                                                     10.0.2.6       â†’   \n17749              216.58.209.67         10.0.2.6                              \n17750  fe80::f938:4562:98cf:a9e0          ff02::c                              \n\n              Col_1h Col_1i  \n0                            \n1                            \n2                ARP     60  \n3                 is     at  \n4           10.0.2.2         \n...              ...    ...  \n17746       10.0.2.6         \n17747     10.0.2.255         \n17748  216.58.209.67    TCP  \n17749                   TCP  \n17750                        \n\n[17751 rows x 9 columns]",
      "text/html": "<div>\n<style scoped>\n    .dataframe tbody tr th:only-of-type {\n        vertical-align: middle;\n    }\n\n    .dataframe tbody tr th {\n        vertical-align: top;\n    }\n\n    .dataframe thead th {\n        text-align: right;\n    }\n</style>\n<table border=\"1\" class=\"dataframe\">\n  <thead>\n    <tr style=\"text-align: right;\">\n      <th></th>\n      <th>Col_1</th>\n      <th>Col_1b</th>\n      <th>Col_1c</th>\n      <th>Col_1d</th>\n      <th>Col_1e</th>\n      <th>Col_1f</th>\n      <th>Col_1g</th>\n      <th>Col_1h</th>\n      <th>Col_1i</th>\n    </tr>\n  </thead>\n  <tbody>\n    <tr>\n      <td>0</td>\n      <td>1 0.000000000 fe80::f938:4562:98cf:a9e0 â†’ ff...</td>\n      <td>0.000000000</td>\n      <td>fe80::f938:4562:98cf:a9e0</td>\n      <td>ff02::c</td>\n      <td></td>\n      <td></td>\n      <td></td>\n      <td></td>\n      <td></td>\n    </tr>\n    <tr>\n      <td>1</td>\n      <td>2 3.000458533 fe80::f938:4562:98cf:a9e0 â†’ ff...</td>\n      <td>3.000458533</td>\n      <td>fe80::f938:4562:98cf:a9e0</td>\n      <td>ff02::c</td>\n      <td></td>\n      <td></td>\n      <td></td>\n      <td></td>\n      <td></td>\n    </tr>\n    <tr>\n      <td>2</td>\n      <td>3 5.202548542 VMware_1b:c1:f4 â†’ Broadcast   ...</td>\n      <td>5.202548542</td>\n      <td>VMware_1b:c1:f4</td>\n      <td>Broadcast</td>\n      <td></td>\n      <td></td>\n      <td></td>\n      <td>ARP</td>\n      <td>60</td>\n    </tr>\n    <tr>\n      <td>3</td>\n      <td>4 5.202548585 VMware_e6:e5:f9 â†’ VMware_1b:c1...</td>\n      <td>5.202548585</td>\n      <td>VMware_e6:e5:f9</td>\n      <td>VMware_1b:c1:f4</td>\n      <td>ARP</td>\n      <td>60</td>\n      <td>10.0.2.2</td>\n      <td>is</td>\n      <td>at</td>\n    </tr>\n    <tr>\n      <td>4</td>\n      <td>5 5.202792498     10.0.2.9 â†’ 10.0.2.2     NB...</td>\n      <td>5.202792498</td>\n      <td></td>\n      <td></td>\n      <td></td>\n      <td>10.0.2.9</td>\n      <td>â†’</td>\n      <td>10.0.2.2</td>\n      <td></td>\n    </tr>\n    <tr>\n      <td>...</td>\n      <td>...</td>\n      <td>...</td>\n      <td>...</td>\n      <td>...</td>\n      <td>...</td>\n      <td>...</td>\n      <td>...</td>\n      <td>...</td>\n      <td>...</td>\n    </tr>\n    <tr>\n      <td>17746</td>\n      <td>17747 413.382509166     10.0.2.2 â†’ 10.0.2.6 ...</td>\n      <td>413.382509166</td>\n      <td></td>\n      <td></td>\n      <td></td>\n      <td>10.0.2.2</td>\n      <td>â†’</td>\n      <td>10.0.2.6</td>\n      <td></td>\n    </tr>\n    <tr>\n      <td>17747</td>\n      <td>17748 413.382787045     10.0.2.6 â†’ 10.0.2.25...</td>\n      <td>413.382787045</td>\n      <td></td>\n      <td></td>\n      <td></td>\n      <td>10.0.2.6</td>\n      <td>â†’</td>\n      <td>10.0.2.255</td>\n      <td></td>\n    </tr>\n    <tr>\n      <td>17748</td>\n      <td>17749 414.579266353     10.0.2.6 â†’ 216.58.20...</td>\n      <td>414.579266353</td>\n      <td></td>\n      <td></td>\n      <td></td>\n      <td>10.0.2.6</td>\n      <td>â†’</td>\n      <td>216.58.209.67</td>\n      <td>TCP</td>\n    </tr>\n    <tr>\n      <td>17749</td>\n      <td>17750 414.579514510 216.58.209.67 â†’ 10.0.2.6...</td>\n      <td>414.579514510</td>\n      <td>216.58.209.67</td>\n      <td>10.0.2.6</td>\n      <td></td>\n      <td></td>\n      <td></td>\n      <td></td>\n      <td>TCP</td>\n    </tr>\n    <tr>\n      <td>17750</td>\n      <td>17751 415.999257802 fe80::f938:4562:98cf:a9e0 ...</td>\n      <td>415.999257802</td>\n      <td>fe80::f938:4562:98cf:a9e0</td>\n      <td>ff02::c</td>\n      <td></td>\n      <td></td>\n      <td></td>\n      <td></td>\n      <td></td>\n    </tr>\n  </tbody>\n</table>\n<p>17751 rows × 9 columns</p>\n</div>"
     },
     "metadata": {},
     "execution_count": 131
    }
   ],
   "source": [
    "df_1['Col_1b'] = columnist(df_1, 1)\n",
    "df_1['Col_1c'] = columnist(df_1, 2)\n",
    "df_1['Col_1d'] = columnist(df_1, 4)\n",
    "df_1['Col_1e'] = columnist(df_1, 5)\n",
    "df_1['Col_1f'] = columnist(df_1, 6)\n",
    "df_1['Col_1g'] = columnist(df_1, 7)\n",
    "df_1['Col_1h'] = columnist(df_1, 8)\n",
    "df_1['Col_1i'] = columnist(df_1, 9)\n",
    "df_1"
   ]
  },
  {
   "cell_type": "code",
   "execution_count": 129,
   "metadata": {
    "tags": []
   },
   "outputs": [
    {
     "output_type": "stream",
     "name": "stdout",
     "text": "-dtype, length and name of columns-\n<class 'pandas.core.frame.DataFrame'>\nRangeIndex: 17751 entries, 0 to 17750\nData columns (total 5 columns):\nCol_1     17751 non-null object\nCol_1b    17751 non-null object\nCol_1c    17751 non-null object\nCol_1d    17751 non-null object\nCol_1e    17751 non-null object\ndtypes: object(5)\nmemory usage: 693.5+ KB\nNone\n\nIndex(['Col_1', 'Col_1b', 'Col_1c', 'Col_1d', 'Col_1e'], dtype='object')\n\n(17751, 5)\n\n-Presence of NaNs in df-\nCol_1     False\nCol_1b    False\nCol_1c    False\nCol_1d    False\nCol_1e    False\ndtype: bool\n"
    }
   ],
   "source": [
    "general_info(df_1)"
   ]
  },
  {
   "cell_type": "code",
   "execution_count": null,
   "metadata": {},
   "outputs": [],
   "source": []
  }
 ],
 "metadata": {
  "language_info": {
   "codemirror_mode": {
    "name": "ipython",
    "version": 3
   },
   "file_extension": ".py",
   "mimetype": "text/x-python",
   "name": "python",
   "nbconvert_exporter": "python",
   "pygments_lexer": "ipython3",
   "version": "3.7.4-final"
  },
  "orig_nbformat": 2,
  "kernelspec": {
   "name": "python3",
   "display_name": "Python 3"
  }
 },
 "nbformat": 4,
 "nbformat_minor": 2
}