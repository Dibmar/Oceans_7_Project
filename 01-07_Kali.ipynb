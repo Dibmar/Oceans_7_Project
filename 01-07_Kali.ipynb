{
 "cells": [
  {
   "cell_type": "code",
   "execution_count": 2,
   "metadata": {},
   "outputs": [],
   "source": [
    "import pandas as pd\n",
    "import numpy as np\n",
    "\n",
    "import matplotlib.pyplot as plt\n",
    "%matplotlib inline"
   ]
  },
  {
   "cell_type": "code",
   "execution_count": 1,
   "metadata": {
    "tags": []
   },
   "outputs": [
    {
     "output_type": "stream",
     "name": "stdout",
     "text": "EDA lib ready\n"
    },
    {
     "output_type": "execute_result",
     "data": {
      "text/plain": "<module 'EDA' from 'f:\\\\Programacion\\\\1.BOOTCAMP\\\\Proyectos\\\\Oceans_7_Project\\\\EDA.py'>"
     },
     "metadata": {},
     "execution_count": 1
    }
   ],
   "source": [
    "import EDA\n",
    "EDA"
   ]
  },
  {
   "cell_type": "code",
   "execution_count": 3,
   "metadata": {
    "tags": []
   },
   "outputs": [
    {
     "output_type": "stream",
     "name": "stderr",
     "text": "b'Skipping line 1118: expected 18 fields, saw 19\\nSkipping line 1778: expected 18 fields, saw 21\\nSkipping line 1779: expected 18 fields, saw 21\\nSkipping line 1784: expected 18 fields, saw 20\\nSkipping line 1788: expected 18 fields, saw 20\\nSkipping line 1790: expected 18 fields, saw 20\\nSkipping line 1843: expected 18 fields, saw 20\\nSkipping line 2672: expected 18 fields, saw 20\\nSkipping line 2763: expected 18 fields, saw 20\\nSkipping line 2792: expected 18 fields, saw 20\\nSkipping line 2824: expected 18 fields, saw 20\\nSkipping line 2825: expected 18 fields, saw 20\\nSkipping line 10032: expected 18 fields, saw 20\\nSkipping line 10033: expected 18 fields, saw 20\\nSkipping line 30783: expected 18 fields, saw 20\\nSkipping line 30784: expected 18 fields, saw 20\\nSkipping line 30815: expected 18 fields, saw 20\\nSkipping line 30816: expected 18 fields, saw 20\\nSkipping line 30865: expected 18 fields, saw 21\\nSkipping line 30866: expected 18 fields, saw 21\\nSkipping line 30899: expected 18 fields, saw 21\\nSkipping line 30900: expected 18 fields, saw 21\\nSkipping line 31329: expected 18 fields, saw 20\\nSkipping line 31330: expected 18 fields, saw 20\\nSkipping line 31425: expected 18 fields, saw 19\\nSkipping line 31426: expected 18 fields, saw 19\\nSkipping line 31626: expected 18 fields, saw 21\\nSkipping line 31627: expected 18 fields, saw 21\\nSkipping line 31668: expected 18 fields, saw 19\\nSkipping line 31669: expected 18 fields, saw 19\\nSkipping line 31719: expected 18 fields, saw 20\\nSkipping line 31760: expected 18 fields, saw 19\\nSkipping line 31761: expected 18 fields, saw 19\\n'\nb'Skipping line 35154: expected 18 fields, saw 19\\nSkipping line 35155: expected 18 fields, saw 19\\nSkipping line 36876: expected 18 fields, saw 19\\nSkipping line 36877: expected 18 fields, saw 19\\nSkipping line 36899: expected 18 fields, saw 19\\nSkipping line 36900: expected 18 fields, saw 19\\nSkipping line 37028: expected 18 fields, saw 19\\nSkipping line 37935: expected 18 fields, saw 20\\nSkipping line 37936: expected 18 fields, saw 20\\nSkipping line 38346: expected 18 fields, saw 21\\nSkipping line 38347: expected 18 fields, saw 21\\nSkipping line 38380: expected 18 fields, saw 19\\nSkipping line 38481: expected 18 fields, saw 19\\nSkipping line 38482: expected 18 fields, saw 19\\nSkipping line 38677: expected 18 fields, saw 19\\nSkipping line 38678: expected 18 fields, saw 19\\nSkipping line 40066: expected 18 fields, saw 20\\nSkipping line 40067: expected 18 fields, saw 20\\nSkipping line 45682: expected 18 fields, saw 22\\nSkipping line 45683: expected 18 fields, saw 22\\nSkipping line 45844: expected 18 fields, saw 20\\nSkipping line 45845: expected 18 fields, saw 20\\nSkipping line 45946: expected 18 fields, saw 20\\nSkipping line 45947: expected 18 fields, saw 20\\nSkipping line 47568: expected 18 fields, saw 22\\nSkipping line 47569: expected 18 fields, saw 22\\nSkipping line 47592: expected 18 fields, saw 20\\nSkipping line 47593: expected 18 fields, saw 20\\nSkipping line 48202: expected 18 fields, saw 20\\nSkipping line 48203: expected 18 fields, saw 20\\nSkipping line 52708: expected 18 fields, saw 20\\nSkipping line 52709: expected 18 fields, saw 20\\nSkipping line 52853: expected 18 fields, saw 20\\nSkipping line 52854: expected 18 fields, saw 20\\nSkipping line 53018: expected 18 fields, saw 20\\nSkipping line 53019: expected 18 fields, saw 20\\nSkipping line 54122: expected 18 fields, saw 20\\nSkipping line 54123: expected 18 fields, saw 20\\nSkipping line 58031: expected 18 fields, saw 20\\nSkipping line 58032: expected 18 fields, saw 20\\nSkipping line 58083: expected 18 fields, saw 20\\nSkipping line 58084: expected 18 fields, saw 20\\nSkipping line 58169: expected 18 fields, saw 20\\nSkipping line 58170: expected 18 fields, saw 20\\n'\nb'Skipping line 67609: expected 18 fields, saw 22\\nSkipping line 67611: expected 18 fields, saw 22\\nSkipping line 68690: expected 18 fields, saw 22\\nSkipping line 68691: expected 18 fields, saw 22\\nSkipping line 69761: expected 18 fields, saw 21\\nSkipping line 69763: expected 18 fields, saw 21\\nSkipping line 72138: expected 18 fields, saw 20\\nSkipping line 72139: expected 18 fields, saw 20\\nSkipping line 72211: expected 18 fields, saw 20\\nSkipping line 72212: expected 18 fields, saw 20\\nSkipping line 72331: expected 18 fields, saw 20\\nSkipping line 72332: expected 18 fields, saw 20\\nSkipping line 74943: expected 18 fields, saw 20\\nSkipping line 74944: expected 18 fields, saw 20\\nSkipping line 75018: expected 18 fields, saw 21\\nSkipping line 75019: expected 18 fields, saw 21\\nSkipping line 75063: expected 18 fields, saw 20\\nSkipping line 75064: expected 18 fields, saw 20\\nSkipping line 75130: expected 18 fields, saw 19\\nSkipping line 75131: expected 18 fields, saw 19\\nSkipping line 75782: expected 18 fields, saw 20\\nSkipping line 75783: expected 18 fields, saw 20\\nSkipping line 76479: expected 18 fields, saw 20\\nSkipping line 76480: expected 18 fields, saw 20\\nSkipping line 76508: expected 18 fields, saw 20\\nSkipping line 76509: expected 18 fields, saw 20\\nSkipping line 76568: expected 18 fields, saw 20\\nSkipping line 76569: expected 18 fields, saw 20\\nSkipping line 76663: expected 18 fields, saw 20\\nSkipping line 76664: expected 18 fields, saw 20\\nSkipping line 76696: expected 18 fields, saw 20\\nSkipping line 76697: expected 18 fields, saw 20\\nSkipping line 77086: expected 18 fields, saw 20\\nSkipping line 77087: expected 18 fields, saw 20\\nSkipping line 77309: expected 18 fields, saw 20\\nSkipping line 77310: expected 18 fields, saw 20\\nSkipping line 77734: expected 18 fields, saw 20\\nSkipping line 77735: expected 18 fields, saw 20\\nSkipping line 78253: expected 18 fields, saw 20\\nSkipping line 78254: expected 18 fields, saw 20\\nSkipping line 78831: expected 18 fields, saw 20\\nSkipping line 79376: expected 18 fields, saw 20\\nSkipping line 79377: expected 18 fields, saw 20\\nSkipping line 79399: expected 18 fields, saw 20\\nSkipping line 79400: expected 18 fields, saw 20\\nSkipping line 79926: expected 18 fields, saw 20\\nSkipping line 79927: expected 18 fields, saw 20\\nSkipping line 81854: expected 18 fields, saw 19\\nSkipping line 81855: expected 18 fields, saw 19\\nSkipping line 81866: expected 18 fields, saw 19\\nSkipping line 81867: expected 18 fields, saw 19\\nSkipping line 81872: expected 18 fields, saw 19\\nSkipping line 81873: expected 18 fields, saw 19\\nSkipping line 94216: expected 18 fields, saw 21\\nSkipping line 94217: expected 18 fields, saw 21\\nSkipping line 94255: expected 18 fields, saw 19\\nSkipping line 94256: expected 18 fields, saw 19\\nSkipping line 94307: expected 18 fields, saw 20\\nSkipping line 94308: expected 18 fields, saw 20\\nSkipping line 94319: expected 18 fields, saw 19\\nSkipping line 94348: expected 18 fields, saw 20\\nSkipping line 94349: expected 18 fields, saw 20\\nSkipping line 97943: expected 18 fields, saw 20\\nSkipping line 97944: expected 18 fields, saw 20\\nSkipping line 97980: expected 18 fields, saw 20\\nSkipping line 97981: expected 18 fields, saw 20\\nSkipping line 98085: expected 18 fields, saw 20\\nSkipping line 98086: expected 18 fields, saw 20\\nSkipping line 98123: expected 18 fields, saw 21\\nSkipping line 98124: expected 18 fields, saw 21\\nSkipping line 98154: expected 18 fields, saw 19\\nSkipping line 98222: expected 18 fields, saw 21\\nSkipping line 98223: expected 18 fields, saw 21\\nSkipping line 98248: expected 18 fields, saw 19\\n'\nb'Skipping line 100280: expected 18 fields, saw 20\\nSkipping line 100389: expected 18 fields, saw 20\\nSkipping line 100390: expected 18 fields, saw 20\\nSkipping line 100716: expected 18 fields, saw 20\\nSkipping line 100717: expected 18 fields, saw 20\\nSkipping line 101980: expected 18 fields, saw 20\\nSkipping line 101981: expected 18 fields, saw 20\\nSkipping line 107893: expected 18 fields, saw 20\\nSkipping line 107894: expected 18 fields, saw 20\\nSkipping line 108366: expected 18 fields, saw 20\\nSkipping line 108473: expected 18 fields, saw 20\\nSkipping line 108474: expected 18 fields, saw 20\\nSkipping line 113613: expected 18 fields, saw 20\\nSkipping line 113614: expected 18 fields, saw 20\\nSkipping line 113615: expected 18 fields, saw 20\\nSkipping line 113617: expected 18 fields, saw 20\\nSkipping line 113647: expected 18 fields, saw 20\\nSkipping line 113648: expected 18 fields, saw 20\\nSkipping line 114119: expected 18 fields, saw 20\\nSkipping line 114122: expected 18 fields, saw 20\\nSkipping line 114203: expected 18 fields, saw 20\\nSkipping line 114204: expected 18 fields, saw 20\\nSkipping line 114378: expected 18 fields, saw 20\\nSkipping line 114379: expected 18 fields, saw 20\\nSkipping line 114577: expected 18 fields, saw 21\\nSkipping line 114584: expected 18 fields, saw 19\\nSkipping line 114585: expected 18 fields, saw 19\\nSkipping line 114816: expected 18 fields, saw 20\\nSkipping line 114817: expected 18 fields, saw 20\\nSkipping line 114897: expected 18 fields, saw 19\\nSkipping line 117610: expected 18 fields, saw 21\\nSkipping line 117611: expected 18 fields, saw 21\\nSkipping line 117613: expected 18 fields, saw 19\\nSkipping line 117614: expected 18 fields, saw 19\\nSkipping line 117619: expected 18 fields, saw 19\\nSkipping line 117620: expected 18 fields, saw 19\\nSkipping line 124091: expected 18 fields, saw 22\\nSkipping line 124092: expected 18 fields, saw 22\\nSkipping line 124106: expected 18 fields, saw 22\\nSkipping line 124180: expected 18 fields, saw 21\\nSkipping line 124182: expected 18 fields, saw 21\\nSkipping line 124559: expected 18 fields, saw 21\\nSkipping line 124560: expected 18 fields, saw 21\\nSkipping line 124569: expected 18 fields, saw 21\\nSkipping line 124570: expected 18 fields, saw 21\\nSkipping line 124905: expected 18 fields, saw 19\\nSkipping line 124906: expected 18 fields, saw 19\\nSkipping line 125129: expected 18 fields, saw 19\\nSkipping line 130455: expected 18 fields, saw 19\\nSkipping line 130456: expected 18 fields, saw 19\\nSkipping line 130505: expected 18 fields, saw 19\\nSkipping line 130506: expected 18 fields, saw 19\\n'\nb'Skipping line 160131: expected 18 fields, saw 20\\nSkipping line 160132: expected 18 fields, saw 20\\nSkipping line 160145: expected 18 fields, saw 20\\nSkipping line 160146: expected 18 fields, saw 20\\nSkipping line 160169: expected 18 fields, saw 20\\nSkipping line 160170: expected 18 fields, saw 20\\nSkipping line 160280: expected 18 fields, saw 20\\nSkipping line 160281: expected 18 fields, saw 20\\nSkipping line 162134: expected 18 fields, saw 20\\nSkipping line 162188: expected 18 fields, saw 20\\nSkipping line 162189: expected 18 fields, saw 20\\nSkipping line 162227: expected 18 fields, saw 20\\nSkipping line 162228: expected 18 fields, saw 20\\nSkipping line 162539: expected 18 fields, saw 20\\nSkipping line 162540: expected 18 fields, saw 20\\nSkipping line 162614: expected 18 fields, saw 19\\nSkipping line 162615: expected 18 fields, saw 19\\nSkipping line 162711: expected 18 fields, saw 19\\nSkipping line 162712: expected 18 fields, saw 19\\n'\n"
    },
    {
     "output_type": "execute_result",
     "data": {
      "text/plain": "   frame.number                            frame.time  frame.time_delta  \\\n0             1  Jul  1, 2020 13:32:37.684792534 CEST               0.0   \n\n  ip.src  tcp.srcport  ip.geoip.src_country  ip.geoip.src_city  \\\n0    NaN          NaN                   NaN                NaN   \n\n   ip.geoip.src_lat  ip.geoip.src_lon ip.dst  tcp.dstport  udp http.host  \\\n0               NaN               NaN    NaN          NaN  NaN       NaN   \n\n  http.request http.request.method  http.cookie _ws.col.Protocol  \\\n0          NaN                 NaN          NaN              ARP   \n\n                             _ws.col.Info  \n0  Who has 192.168.1.1? Tell 192.168.1.40  ",
      "text/html": "<div>\n<style scoped>\n    .dataframe tbody tr th:only-of-type {\n        vertical-align: middle;\n    }\n\n    .dataframe tbody tr th {\n        vertical-align: top;\n    }\n\n    .dataframe thead th {\n        text-align: right;\n    }\n</style>\n<table border=\"1\" class=\"dataframe\">\n  <thead>\n    <tr style=\"text-align: right;\">\n      <th></th>\n      <th>frame.number</th>\n      <th>frame.time</th>\n      <th>frame.time_delta</th>\n      <th>ip.src</th>\n      <th>tcp.srcport</th>\n      <th>ip.geoip.src_country</th>\n      <th>ip.geoip.src_city</th>\n      <th>ip.geoip.src_lat</th>\n      <th>ip.geoip.src_lon</th>\n      <th>ip.dst</th>\n      <th>tcp.dstport</th>\n      <th>udp</th>\n      <th>http.host</th>\n      <th>http.request</th>\n      <th>http.request.method</th>\n      <th>http.cookie</th>\n      <th>_ws.col.Protocol</th>\n      <th>_ws.col.Info</th>\n    </tr>\n  </thead>\n  <tbody>\n    <tr>\n      <td>0</td>\n      <td>1</td>\n      <td>Jul  1, 2020 13:32:37.684792534 CEST</td>\n      <td>0.0</td>\n      <td>NaN</td>\n      <td>NaN</td>\n      <td>NaN</td>\n      <td>NaN</td>\n      <td>NaN</td>\n      <td>NaN</td>\n      <td>NaN</td>\n      <td>NaN</td>\n      <td>NaN</td>\n      <td>NaN</td>\n      <td>NaN</td>\n      <td>NaN</td>\n      <td>NaN</td>\n      <td>ARP</td>\n      <td>Who has 192.168.1.1? Tell 192.168.1.40</td>\n    </tr>\n  </tbody>\n</table>\n</div>"
     },
     "metadata": {},
     "execution_count": 3
    }
   ],
   "source": [
    "kali = pd.read_csv(r'F:\\Programacion\\1.BOOTCAMP\\data\\trabajo_interdisciplinar\\simulacro_ataque_01-07_kali.csv', error_bad_lines = False)\n",
    "kali.head(1)"
   ]
  },
  {
   "cell_type": "code",
   "execution_count": 4,
   "metadata": {
    "tags": []
   },
   "outputs": [
    {
     "output_type": "stream",
     "name": "stdout",
     "text": "-dtype, length and name of columns-\n<class 'pandas.core.frame.DataFrame'>\nRangeIndex: 166080 entries, 0 to 166079\nData columns (total 18 columns):\nframe.number            166080 non-null int64\nframe.time              166080 non-null object\nframe.time_delta        166080 non-null float64\nip.src                  163696 non-null object\ntcp.srcport             160417 non-null float64\nip.geoip.src_country    0 non-null float64\nip.geoip.src_city       0 non-null float64\nip.geoip.src_lat        0 non-null float64\nip.geoip.src_lon        0 non-null float64\nip.dst                  163696 non-null object\ntcp.dstport             160417 non-null float64\nudp                     4077 non-null object\nhttp.host               892 non-null object\nhttp.request            818 non-null object\nhttp.request.method     892 non-null object\nhttp.cookie             0 non-null float64\n_ws.col.Protocol        166080 non-null object\n_ws.col.Info            166080 non-null object\ndtypes: float64(8), int64(1), object(9)\nmemory usage: 22.8+ MB\nNone\n\nIndex(['frame.number', 'frame.time', 'frame.time_delta', 'ip.src',\n       'tcp.srcport', 'ip.geoip.src_country', 'ip.geoip.src_city',\n       'ip.geoip.src_lat', 'ip.geoip.src_lon', 'ip.dst', 'tcp.dstport', 'udp',\n       'http.host', 'http.request', 'http.request.method', 'http.cookie',\n       '_ws.col.Protocol', '_ws.col.Info'],\n      dtype='object')\n\n(166080, 18)\n\n-Presence of NaNs in df-\nframe.number            False\nframe.time              False\nframe.time_delta        False\nip.src                   True\ntcp.srcport              True\nip.geoip.src_country     True\nip.geoip.src_city        True\nip.geoip.src_lat         True\nip.geoip.src_lon         True\nip.dst                   True\ntcp.dstport              True\nudp                      True\nhttp.host                True\nhttp.request             True\nhttp.request.method      True\nhttp.cookie              True\n_ws.col.Protocol        False\n_ws.col.Info            False\ndtype: bool\n\n-Number of NaNs in df-\nframe.number                 0\nframe.time                   0\nframe.time_delta             0\nip.src                    2384\ntcp.srcport               5663\nip.geoip.src_country    166080\nip.geoip.src_city       166080\nip.geoip.src_lat        166080\nip.geoip.src_lon        166080\nip.dst                    2384\ntcp.dstport               5663\nudp                     162003\nhttp.host               165188\nhttp.request            165262\nhttp.request.method     165188\nhttp.cookie             166080\n_ws.col.Protocol             0\n_ws.col.Info                 0\ndtype: int64\n"
    }
   ],
   "source": [
    "EDA.general_info(kali)"
   ]
  },
  {
   "cell_type": "code",
   "execution_count": 7,
   "metadata": {},
   "outputs": [
    {
     "output_type": "execute_result",
     "data": {
      "text/plain": "        frame.number                            frame.time  frame.time_delta\n0                  1  Jul  1, 2020 13:32:37.684792534 CEST      0.000000e+00\n1                  2  Jul  1, 2020 13:32:37.787131334 CEST      1.023388e-01\n2                  3  Jul  1, 2020 13:32:37.890381682 CEST      1.032503e-01\n3                  4  Jul  1, 2020 13:32:38.708445368 CEST      8.180637e-01\n4                  5  Jul  1, 2020 13:32:38.813594947 CEST      1.051496e-01\n...              ...                                   ...               ...\n166075        166298  Jul  1, 2020 14:01:02.922877846 CEST      5.500000e-08\n166076        166299  Jul  1, 2020 14:01:03.021486199 CEST      9.860835e-02\n166077        166300  Jul  1, 2020 14:01:03.061436991 CEST      3.995079e-02\n166078        166301  Jul  1, 2020 14:01:03.934684970 CEST      8.732480e-01\n166079        166302  Jul  1, 2020 14:01:03.969836210 CEST      3.515124e-02\n\n[166080 rows x 3 columns]",
      "text/html": "<div>\n<style scoped>\n    .dataframe tbody tr th:only-of-type {\n        vertical-align: middle;\n    }\n\n    .dataframe tbody tr th {\n        vertical-align: top;\n    }\n\n    .dataframe thead th {\n        text-align: right;\n    }\n</style>\n<table border=\"1\" class=\"dataframe\">\n  <thead>\n    <tr style=\"text-align: right;\">\n      <th></th>\n      <th>frame.number</th>\n      <th>frame.time</th>\n      <th>frame.time_delta</th>\n    </tr>\n  </thead>\n  <tbody>\n    <tr>\n      <td>0</td>\n      <td>1</td>\n      <td>Jul  1, 2020 13:32:37.684792534 CEST</td>\n      <td>0.000000e+00</td>\n    </tr>\n    <tr>\n      <td>1</td>\n      <td>2</td>\n      <td>Jul  1, 2020 13:32:37.787131334 CEST</td>\n      <td>1.023388e-01</td>\n    </tr>\n    <tr>\n      <td>2</td>\n      <td>3</td>\n      <td>Jul  1, 2020 13:32:37.890381682 CEST</td>\n      <td>1.032503e-01</td>\n    </tr>\n    <tr>\n      <td>3</td>\n      <td>4</td>\n      <td>Jul  1, 2020 13:32:38.708445368 CEST</td>\n      <td>8.180637e-01</td>\n    </tr>\n    <tr>\n      <td>4</td>\n      <td>5</td>\n      <td>Jul  1, 2020 13:32:38.813594947 CEST</td>\n      <td>1.051496e-01</td>\n    </tr>\n    <tr>\n      <td>...</td>\n      <td>...</td>\n      <td>...</td>\n      <td>...</td>\n    </tr>\n    <tr>\n      <td>166075</td>\n      <td>166298</td>\n      <td>Jul  1, 2020 14:01:02.922877846 CEST</td>\n      <td>5.500000e-08</td>\n    </tr>\n    <tr>\n      <td>166076</td>\n      <td>166299</td>\n      <td>Jul  1, 2020 14:01:03.021486199 CEST</td>\n      <td>9.860835e-02</td>\n    </tr>\n    <tr>\n      <td>166077</td>\n      <td>166300</td>\n      <td>Jul  1, 2020 14:01:03.061436991 CEST</td>\n      <td>3.995079e-02</td>\n    </tr>\n    <tr>\n      <td>166078</td>\n      <td>166301</td>\n      <td>Jul  1, 2020 14:01:03.934684970 CEST</td>\n      <td>8.732480e-01</td>\n    </tr>\n    <tr>\n      <td>166079</td>\n      <td>166302</td>\n      <td>Jul  1, 2020 14:01:03.969836210 CEST</td>\n      <td>3.515124e-02</td>\n    </tr>\n  </tbody>\n</table>\n<p>166080 rows × 3 columns</p>\n</div>"
     },
     "metadata": {},
     "execution_count": 7
    }
   ],
   "source": [
    "kali_frame = kali[['frame.number', 'frame.time', 'frame.time_delta']]\n",
    "kali_frame"
   ]
  }
 ],
 "metadata": {
  "language_info": {
   "codemirror_mode": {
    "name": "ipython",
    "version": 3
   },
   "file_extension": ".py",
   "mimetype": "text/x-python",
   "name": "python",
   "nbconvert_exporter": "python",
   "pygments_lexer": "ipython3",
   "version": "3.7.4-final"
  },
  "orig_nbformat": 2,
  "kernelspec": {
   "name": "python3",
   "display_name": "Python 3"
  }
 },
 "nbformat": 4,
 "nbformat_minor": 2
}