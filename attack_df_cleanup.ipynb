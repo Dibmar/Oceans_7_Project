{
 "cells": [
  {
   "cell_type": "code",
   "execution_count": 2,
   "metadata": {
    "tags": []
   },
   "outputs": [
    {
     "output_type": "stream",
     "name": "stdout",
     "text": "EDA lib ready\n"
    }
   ],
   "source": [
    "import pandas as pd\n",
    "import EDA"
   ]
  },
  {
   "cell_type": "code",
   "execution_count": 3,
   "metadata": {},
   "outputs": [],
   "source": [
    "attack =  pd.read_csv(r'F:\\Programacion\\1.BOOTCAMP\\data\\trabajo_interdisciplinar\\df_ready\\whole_encoded.csv')"
   ]
  },
  {
   "cell_type": "code",
   "execution_count": 4,
   "metadata": {},
   "outputs": [],
   "source": [
    "normal_traff = pd.read_csv(r'F:\\Programacion\\1.BOOTCAMP\\data\\trabajo_interdisciplinar\\df_ready\\normal_traff.csv')"
   ]
  },
  {
   "cell_type": "code",
   "execution_count": 5,
   "metadata": {},
   "outputs": [
    {
     "output_type": "execute_result",
     "data": {
      "text/plain": "Index(['Unnamed: 0', 'Unnamed: 0.1', 'date', 'time', 'duration', 'source',\n       'src_port', 'destination', 'dest_port', 'protocol', 'length', 'info',\n       'attack', 'flag', 'lb_protocol'],\n      dtype='object')"
     },
     "metadata": {},
     "execution_count": 5
    }
   ],
   "source": [
    "attack.columns"
   ]
  },
  {
   "cell_type": "code",
   "execution_count": 6,
   "metadata": {},
   "outputs": [
    {
     "output_type": "execute_result",
     "data": {
      "text/plain": "Index(['Unnamed: 0', 'date', 'time', 'duration', 'source', 'src_port',\n       'destination', 'dest_port', 'protocol', 'length', 'info', 'attack'],\n      dtype='object')"
     },
     "metadata": {},
     "execution_count": 6
    }
   ],
   "source": [
    "normal_traff.columns"
   ]
  },
  {
   "cell_type": "code",
   "execution_count": 7,
   "metadata": {},
   "outputs": [
    {
     "output_type": "execute_result",
     "data": {
      "text/plain": "60    528381\n17     71674\n64     30105\n63     26535\n62     17024\n       ...  \n40         1\n42         1\n44         1\n48         1\n0          1\nName: lb_protocol, Length: 68, dtype: int64"
     },
     "metadata": {},
     "execution_count": 7
    }
   ],
   "source": [
    "attack.lb_protocol.value_counts()"
   ]
  },
  {
   "cell_type": "code",
   "execution_count": 8,
   "metadata": {},
   "outputs": [
    {
     "output_type": "execute_result",
     "data": {
      "text/plain": "0    377720\n1    315579\nName: attack, dtype: int64"
     },
     "metadata": {},
     "execution_count": 8
    }
   ],
   "source": [
    "attack.attack.value_counts()"
   ]
  },
  {
   "cell_type": "code",
   "execution_count": 9,
   "metadata": {},
   "outputs": [
    {
     "output_type": "execute_result",
     "data": {
      "text/plain": "                                                     info  attack      flag  \\\n0       37232  >  80 [SYN] Seq=0 Win=64240 Len=0 MSS=1...       1       SYN   \n1       80  >  37232 [SYN, ACK] Seq=0 Ack=1 Win=5792 L...       1  SYN, ACK   \n2       37232  >  80 [ACK] Seq=1 Ack=1 Win=64256 Len=0...       1       ACK   \n3       37232  >  80 [FIN, ACK] Seq=1 Ack=1 Win=64256 ...       1  FIN, ACK   \n4       80  >  37232 [FIN, ACK] Seq=1 Ack=2 Win=5792 L...       1  FIN, ACK   \n...                                                   ...     ...       ...   \n693294  44266  >  80 [ACK] Seq=380 Ack=704 Win=63882 L...       0       ACK   \n693295  443  >  35746 [FIN, ACK] Seq=4026 Ack=1186 Win...       0  FIN, ACK   \n693296  443  >  58804 [FIN, ACK] Seq=4248 Ack=1304 Win...       0  FIN, ACK   \n693297  35746  >  443 [ACK] Seq=1186 Ack=4027 Win=6278...       0       ACK   \n693298  58804  >  443 [ACK] Seq=1304 Ack=4249 Win=6278...       0       ACK   \n\n        lb_protocol  \n0                60  \n1                60  \n2                60  \n3                60  \n4                60  \n...             ...  \n693294           60  \n693295           60  \n693296           60  \n693297           60  \n693298           60  \n\n[693299 rows x 4 columns]",
      "text/html": "<div>\n<style scoped>\n    .dataframe tbody tr th:only-of-type {\n        vertical-align: middle;\n    }\n\n    .dataframe tbody tr th {\n        vertical-align: top;\n    }\n\n    .dataframe thead th {\n        text-align: right;\n    }\n</style>\n<table border=\"1\" class=\"dataframe\">\n  <thead>\n    <tr style=\"text-align: right;\">\n      <th></th>\n      <th>info</th>\n      <th>attack</th>\n      <th>flag</th>\n      <th>lb_protocol</th>\n    </tr>\n  </thead>\n  <tbody>\n    <tr>\n      <td>0</td>\n      <td>37232  &gt;  80 [SYN] Seq=0 Win=64240 Len=0 MSS=1...</td>\n      <td>1</td>\n      <td>SYN</td>\n      <td>60</td>\n    </tr>\n    <tr>\n      <td>1</td>\n      <td>80  &gt;  37232 [SYN, ACK] Seq=0 Ack=1 Win=5792 L...</td>\n      <td>1</td>\n      <td>SYN, ACK</td>\n      <td>60</td>\n    </tr>\n    <tr>\n      <td>2</td>\n      <td>37232  &gt;  80 [ACK] Seq=1 Ack=1 Win=64256 Len=0...</td>\n      <td>1</td>\n      <td>ACK</td>\n      <td>60</td>\n    </tr>\n    <tr>\n      <td>3</td>\n      <td>37232  &gt;  80 [FIN, ACK] Seq=1 Ack=1 Win=64256 ...</td>\n      <td>1</td>\n      <td>FIN, ACK</td>\n      <td>60</td>\n    </tr>\n    <tr>\n      <td>4</td>\n      <td>80  &gt;  37232 [FIN, ACK] Seq=1 Ack=2 Win=5792 L...</td>\n      <td>1</td>\n      <td>FIN, ACK</td>\n      <td>60</td>\n    </tr>\n    <tr>\n      <td>...</td>\n      <td>...</td>\n      <td>...</td>\n      <td>...</td>\n      <td>...</td>\n    </tr>\n    <tr>\n      <td>693294</td>\n      <td>44266  &gt;  80 [ACK] Seq=380 Ack=704 Win=63882 L...</td>\n      <td>0</td>\n      <td>ACK</td>\n      <td>60</td>\n    </tr>\n    <tr>\n      <td>693295</td>\n      <td>443  &gt;  35746 [FIN, ACK] Seq=4026 Ack=1186 Win...</td>\n      <td>0</td>\n      <td>FIN, ACK</td>\n      <td>60</td>\n    </tr>\n    <tr>\n      <td>693296</td>\n      <td>443  &gt;  58804 [FIN, ACK] Seq=4248 Ack=1304 Win...</td>\n      <td>0</td>\n      <td>FIN, ACK</td>\n      <td>60</td>\n    </tr>\n    <tr>\n      <td>693297</td>\n      <td>35746  &gt;  443 [ACK] Seq=1186 Ack=4027 Win=6278...</td>\n      <td>0</td>\n      <td>ACK</td>\n      <td>60</td>\n    </tr>\n    <tr>\n      <td>693298</td>\n      <td>58804  &gt;  443 [ACK] Seq=1304 Ack=4249 Win=6278...</td>\n      <td>0</td>\n      <td>ACK</td>\n      <td>60</td>\n    </tr>\n  </tbody>\n</table>\n<p>693299 rows × 4 columns</p>\n</div>"
     },
     "metadata": {},
     "execution_count": 9
    }
   ],
   "source": [
    "attack.iloc[:, 11:]"
   ]
  },
  {
   "cell_type": "code",
   "execution_count": 10,
   "metadata": {},
   "outputs": [
    {
     "output_type": "execute_result",
     "data": {
      "text/plain": "(693299, 15)"
     },
     "metadata": {},
     "execution_count": 10
    }
   ],
   "source": [
    "attack.shape"
   ]
  },
  {
   "cell_type": "code",
   "execution_count": 11,
   "metadata": {},
   "outputs": [
    {
     "output_type": "error",
     "ename": "ValueError",
     "evalue": "cannot insert attack, already exists",
     "traceback": [
      "\u001b[1;31m---------------------------------------------------------------------------\u001b[0m",
      "\u001b[1;31mValueError\u001b[0m                                Traceback (most recent call last)",
      "\u001b[1;32m<ipython-input-11-12f2f7e78e09>\u001b[0m in \u001b[0;36m<module>\u001b[1;34m\u001b[0m\n\u001b[1;32m----> 1\u001b[1;33m \u001b[0mattack\u001b[0m\u001b[1;33m.\u001b[0m\u001b[0minsert\u001b[0m\u001b[1;33m(\u001b[0m\u001b[1;36m10\u001b[0m\u001b[1;33m,\u001b[0m \u001b[1;34m\"attack\"\u001b[0m\u001b[1;33m,\u001b[0m \u001b[1;36m1\u001b[0m\u001b[1;33m)\u001b[0m\u001b[1;33m\u001b[0m\u001b[1;33m\u001b[0m\u001b[0m\n\u001b[0m",
      "\u001b[1;32mF:\\Programacion\\lib\\site-packages\\pandas\\core\\frame.py\u001b[0m in \u001b[0;36minsert\u001b[1;34m(self, loc, column, value, allow_duplicates)\u001b[0m\n\u001b[0;32m   3574\u001b[0m         \u001b[0mself\u001b[0m\u001b[1;33m.\u001b[0m\u001b[0m_ensure_valid_index\u001b[0m\u001b[1;33m(\u001b[0m\u001b[0mvalue\u001b[0m\u001b[1;33m)\u001b[0m\u001b[1;33m\u001b[0m\u001b[1;33m\u001b[0m\u001b[0m\n\u001b[0;32m   3575\u001b[0m         \u001b[0mvalue\u001b[0m \u001b[1;33m=\u001b[0m \u001b[0mself\u001b[0m\u001b[1;33m.\u001b[0m\u001b[0m_sanitize_column\u001b[0m\u001b[1;33m(\u001b[0m\u001b[0mcolumn\u001b[0m\u001b[1;33m,\u001b[0m \u001b[0mvalue\u001b[0m\u001b[1;33m,\u001b[0m \u001b[0mbroadcast\u001b[0m\u001b[1;33m=\u001b[0m\u001b[1;32mFalse\u001b[0m\u001b[1;33m)\u001b[0m\u001b[1;33m\u001b[0m\u001b[1;33m\u001b[0m\u001b[0m\n\u001b[1;32m-> 3576\u001b[1;33m         \u001b[0mself\u001b[0m\u001b[1;33m.\u001b[0m\u001b[0m_data\u001b[0m\u001b[1;33m.\u001b[0m\u001b[0minsert\u001b[0m\u001b[1;33m(\u001b[0m\u001b[0mloc\u001b[0m\u001b[1;33m,\u001b[0m \u001b[0mcolumn\u001b[0m\u001b[1;33m,\u001b[0m \u001b[0mvalue\u001b[0m\u001b[1;33m,\u001b[0m \u001b[0mallow_duplicates\u001b[0m\u001b[1;33m=\u001b[0m\u001b[0mallow_duplicates\u001b[0m\u001b[1;33m)\u001b[0m\u001b[1;33m\u001b[0m\u001b[1;33m\u001b[0m\u001b[0m\n\u001b[0m\u001b[0;32m   3577\u001b[0m \u001b[1;33m\u001b[0m\u001b[0m\n\u001b[0;32m   3578\u001b[0m     \u001b[1;32mdef\u001b[0m \u001b[0massign\u001b[0m\u001b[1;33m(\u001b[0m\u001b[0mself\u001b[0m\u001b[1;33m,\u001b[0m \u001b[1;33m**\u001b[0m\u001b[0mkwargs\u001b[0m\u001b[1;33m)\u001b[0m\u001b[1;33m:\u001b[0m\u001b[1;33m\u001b[0m\u001b[1;33m\u001b[0m\u001b[0m\n",
      "\u001b[1;32mF:\\Programacion\\lib\\site-packages\\pandas\\core\\internals\\managers.py\u001b[0m in \u001b[0;36minsert\u001b[1;34m(self, loc, item, value, allow_duplicates)\u001b[0m\n\u001b[0;32m   1171\u001b[0m         \u001b[1;32mif\u001b[0m \u001b[1;32mnot\u001b[0m \u001b[0mallow_duplicates\u001b[0m \u001b[1;32mand\u001b[0m \u001b[0mitem\u001b[0m \u001b[1;32min\u001b[0m \u001b[0mself\u001b[0m\u001b[1;33m.\u001b[0m\u001b[0mitems\u001b[0m\u001b[1;33m:\u001b[0m\u001b[1;33m\u001b[0m\u001b[1;33m\u001b[0m\u001b[0m\n\u001b[0;32m   1172\u001b[0m             \u001b[1;31m# Should this be a different kind of error??\u001b[0m\u001b[1;33m\u001b[0m\u001b[1;33m\u001b[0m\u001b[1;33m\u001b[0m\u001b[0m\n\u001b[1;32m-> 1173\u001b[1;33m             \u001b[1;32mraise\u001b[0m \u001b[0mValueError\u001b[0m\u001b[1;33m(\u001b[0m\u001b[1;34m\"cannot insert {}, already exists\"\u001b[0m\u001b[1;33m.\u001b[0m\u001b[0mformat\u001b[0m\u001b[1;33m(\u001b[0m\u001b[0mitem\u001b[0m\u001b[1;33m)\u001b[0m\u001b[1;33m)\u001b[0m\u001b[1;33m\u001b[0m\u001b[1;33m\u001b[0m\u001b[0m\n\u001b[0m\u001b[0;32m   1174\u001b[0m \u001b[1;33m\u001b[0m\u001b[0m\n\u001b[0;32m   1175\u001b[0m         \u001b[1;32mif\u001b[0m \u001b[1;32mnot\u001b[0m \u001b[0misinstance\u001b[0m\u001b[1;33m(\u001b[0m\u001b[0mloc\u001b[0m\u001b[1;33m,\u001b[0m \u001b[0mint\u001b[0m\u001b[1;33m)\u001b[0m\u001b[1;33m:\u001b[0m\u001b[1;33m\u001b[0m\u001b[1;33m\u001b[0m\u001b[0m\n",
      "\u001b[1;31mValueError\u001b[0m: cannot insert attack, already exists"
     ]
    }
   ],
   "source": [
    "attack.insert(10, \"attack\", 1)"
   ]
  },
  {
   "cell_type": "code",
   "execution_count": 12,
   "metadata": {},
   "outputs": [
    {
     "output_type": "execute_result",
     "data": {
      "text/plain": "Index(['Unnamed: 0', 'Unnamed: 0.1', 'date', 'time', 'duration', 'source',\n       'src_port', 'destination', 'dest_port', 'protocol', 'length', 'info',\n       'attack', 'flag', 'lb_protocol'],\n      dtype='object')"
     },
     "metadata": {},
     "execution_count": 12
    }
   ],
   "source": [
    "attack.columns"
   ]
  },
  {
   "cell_type": "code",
   "execution_count": 13,
   "metadata": {},
   "outputs": [
    {
     "output_type": "execute_result",
     "data": {
      "text/plain": "Index(['Unnamed: 0', 'date', 'time', 'duration', 'source', 'src_port',\n       'destination', 'dest_port', 'protocol', 'length', 'info', 'attack'],\n      dtype='object')"
     },
     "metadata": {},
     "execution_count": 13
    }
   ],
   "source": [
    "normal_traff.columns"
   ]
  },
  {
   "cell_type": "code",
   "execution_count": 14,
   "metadata": {},
   "outputs": [],
   "source": [
    "objs = normal_traff, attack\n",
    "\n",
    "# traff = pd.concat(objs, axis=0, join='outer', ignore_index=False, keys=None,levels=None, names=None, verify_integrity=False, copy=True)"
   ]
  },
  {
   "cell_type": "code",
   "execution_count": 15,
   "metadata": {},
   "outputs": [],
   "source": [
    "# EDA.df_save(traff)"
   ]
  }
 ],
 "metadata": {
  "language_info": {
   "codemirror_mode": {
    "name": "ipython",
    "version": 3
   },
   "file_extension": ".py",
   "mimetype": "text/x-python",
   "name": "python",
   "nbconvert_exporter": "python",
   "pygments_lexer": "ipython3",
   "version": 3
  },
  "orig_nbformat": 2,
  "kernelspec": {
   "name": "python_defaultSpec_1594995808522",
   "display_name": "Python 3.7.4 64-bit ('base': conda)"
  }
 },
 "nbformat": 4,
 "nbformat_minor": 2
}