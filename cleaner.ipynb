{
 "cells": [
  {
   "cell_type": "code",
   "execution_count": 1,
   "metadata": {},
   "outputs": [],
   "source": [
    "import pandas as pd\n",
    "import numpy as np\n",
    "\n",
    "\n",
    "import matplotlib.pyplot as plt\n",
    "%matplotlib inline"
   ]
  },
  {
   "cell_type": "code",
   "execution_count": 42,
   "metadata": {
    "tags": []
   },
   "outputs": [
    {
     "output_type": "stream",
     "name": "stderr",
     "text": "b'Skipping line 25118: expected 4 fields, saw 7\\nSkipping line 25137: expected 4 fields, saw 6\\nSkipping line 25159: expected 4 fields, saw 6\\n'\n"
    },
    {
     "output_type": "execute_result",
     "data": {
      "text/plain": "   1          Unnamed: 1                                         Unnamed: 2  \\\n0  2                 NaN                                                NaN   \n1  3  10.0.2.6,10.0.2.25  User Datagram Protocol, Src Port: 68, Dst Port...   \n2  4  10.0.2.25,10.0.2.6  User Datagram Protocol, Src Port: 67, Dst Port...   \n3  5   10.0.2.6,10.0.2.2  User Datagram Protocol, Src Port: 35855, Dst P...   \n4  6   10.0.2.6,10.0.2.2  User Datagram Protocol, Src Port: 35855, Dst P...   \n\n            Who has 10.0.2.25? Tell 10.0.2.6  \n0          10.0.2.25 is at 00:50:56:fc:6f:0d  \n1  DHCP Request  - Transaction ID 0xa8ac8ab8  \n2  DHCP ACK      - Transaction ID 0xa8ac8ab8  \n3        Standard query 0xe08e A www.eff.org  \n4     Standard query 0x51fc AAAA www.eff.org  ",
      "text/html": "<div>\n<style scoped>\n    .dataframe tbody tr th:only-of-type {\n        vertical-align: middle;\n    }\n\n    .dataframe tbody tr th {\n        vertical-align: top;\n    }\n\n    .dataframe thead th {\n        text-align: right;\n    }\n</style>\n<table border=\"1\" class=\"dataframe\">\n  <thead>\n    <tr style=\"text-align: right;\">\n      <th></th>\n      <th>1</th>\n      <th>Unnamed: 1</th>\n      <th>Unnamed: 2</th>\n      <th>Who has 10.0.2.25? Tell 10.0.2.6</th>\n    </tr>\n  </thead>\n  <tbody>\n    <tr>\n      <td>0</td>\n      <td>2</td>\n      <td>NaN</td>\n      <td>NaN</td>\n      <td>10.0.2.25 is at 00:50:56:fc:6f:0d</td>\n    </tr>\n    <tr>\n      <td>1</td>\n      <td>3</td>\n      <td>10.0.2.6,10.0.2.25</td>\n      <td>User Datagram Protocol, Src Port: 68, Dst Port...</td>\n      <td>DHCP Request  - Transaction ID 0xa8ac8ab8</td>\n    </tr>\n    <tr>\n      <td>2</td>\n      <td>4</td>\n      <td>10.0.2.25,10.0.2.6</td>\n      <td>User Datagram Protocol, Src Port: 67, Dst Port...</td>\n      <td>DHCP ACK      - Transaction ID 0xa8ac8ab8</td>\n    </tr>\n    <tr>\n      <td>3</td>\n      <td>5</td>\n      <td>10.0.2.6,10.0.2.2</td>\n      <td>User Datagram Protocol, Src Port: 35855, Dst P...</td>\n      <td>Standard query 0xe08e A www.eff.org</td>\n    </tr>\n    <tr>\n      <td>4</td>\n      <td>6</td>\n      <td>10.0.2.6,10.0.2.2</td>\n      <td>User Datagram Protocol, Src Port: 35855, Dst P...</td>\n      <td>Standard query 0x51fc AAAA www.eff.org</td>\n    </tr>\n  </tbody>\n</table>\n</div>"
     },
     "metadata": {},
     "execution_count": 42
    }
   ],
   "source": [
    "df = pd.read_csv(r'F:\\Programacion\\1.BOOTCAMP\\data\\trabajo_interdisciplinar\\simulacro_ataque_24-06.csv', error_bad_lines=False)\n",
    "df.head()"
   ]
  },
  {
   "cell_type": "code",
   "execution_count": 43,
   "metadata": {},
   "outputs": [],
   "source": [
    "def general_info (df):\n",
    "    \"\"\"\n",
    "                        ---What it does--\n",
    "    This function checks the info, columns and shape of the df, printing them. Also it checks the presence of NaNs values on the df and prints them in case it founds them.\n",
    "\n",
    "                        ---What it needs---\n",
    "    A df object\n",
    "    \"\"\"\n",
    "\n",
    "\n",
    "    # df columns info\n",
    "    print('-dtype, length and name of columns-')\n",
    "    print(df.info())\n",
    "    print()\n",
    "    print(df.columns)\n",
    "    print()\n",
    "    print(df.shape)\n",
    "    print()\n",
    "\n",
    "    # Presence of NaNs in df\n",
    "    need_to_print =  False\n",
    "    nulls = df.isnull().any()\n",
    "    print('-Presence of NaNs in df-')\n",
    "    print (nulls)\n",
    "    for e in list(nulls):\n",
    "        if e == True:\n",
    "            need_to_print = True\n",
    "    if need_to_print == True:\n",
    "        print()\n",
    "        print('-Number of NaNs in df-')\n",
    "        print (df.isnull().sum() )\n",
    "    "
   ]
  },
  {
   "cell_type": "code",
   "execution_count": 44,
   "metadata": {
    "tags": []
   },
   "outputs": [
    {
     "output_type": "stream",
     "name": "stdout",
     "text": "-dtype, length and name of columns-\n<class 'pandas.core.frame.DataFrame'>\nRangeIndex: 31809 entries, 0 to 31808\nData columns (total 4 columns):\n1                                   31809 non-null int64\nUnnamed: 1                          31493 non-null object\nUnnamed: 2                          1288 non-null object\nWho has 10.0.2.25? Tell 10.0.2.6    31809 non-null object\ndtypes: int64(1), object(3)\nmemory usage: 994.2+ KB\nNone\n\nIndex(['1', 'Unnamed: 1', 'Unnamed: 2', 'Who has 10.0.2.25? Tell 10.0.2.6'], dtype='object')\n\n(31809, 4)\n\n-Presence of NaNs in df-\n1                                   False\nUnnamed: 1                           True\nUnnamed: 2                           True\nWho has 10.0.2.25? Tell 10.0.2.6    False\ndtype: bool\n\n-Number of NaNs in df-\n1                                       0\nUnnamed: 1                            316\nUnnamed: 2                          30521\nWho has 10.0.2.25? Tell 10.0.2.6        0\ndtype: int64\n"
    }
   ],
   "source": [
    "general_info(df)"
   ]
  },
  {
   "cell_type": "code",
   "execution_count": 55,
   "metadata": {},
   "outputs": [],
   "source": [
    "df.columns = ['1', 'Col_1', 'Col_2', 'Who has 10.0.2.25? Tell 10.0.2.6']"
   ]
  },
  {
   "cell_type": "code",
   "execution_count": 56,
   "metadata": {},
   "outputs": [],
   "source": [
    "df = df.drop('1', axis= 1)"
   ]
  },
  {
   "cell_type": "code",
   "execution_count": 57,
   "metadata": {},
   "outputs": [
    {
     "output_type": "execute_result",
     "data": {
      "text/plain": "Index(['Col_1', 'Col_2', 'Who has 10.0.2.25? Tell 10.0.2.6'], dtype='object')"
     },
     "metadata": {},
     "execution_count": 57
    }
   ],
   "source": [
    "df.columns"
   ]
  },
  {
   "cell_type": "code",
   "execution_count": 52,
   "metadata": {},
   "outputs": [
    {
     "output_type": "execute_result",
     "data": {
      "text/plain": "dtype('O')"
     },
     "metadata": {},
     "execution_count": 52
    }
   ],
   "source": [
    "df.Col_2.dtype"
   ]
  },
  {
   "cell_type": "code",
   "execution_count": 54,
   "metadata": {},
   "outputs": [
    {
     "output_type": "execute_result",
     "data": {
      "text/plain": "User Datagram Protocol, Src Port: 5353, Dst Port: 5353     336\nUser Datagram Protocol, Src Port: 137, Dst Port: 137        81\nUser Datagram Protocol, Src Port: 64126, Dst Port: 1900     42\nUser Datagram Protocol, Src Port: 64119, Dst Port: 1900     33\nUser Datagram Protocol, Src Port: 65164, Dst Port: 3702     14\n                                                          ... \nUser Datagram Protocol, Src Port: 53, Dst Port: 46247        1\nUser Datagram Protocol, Src Port: 59700, Dst Port: 53        1\nUser Datagram Protocol, Src Port: 53, Dst Port: 45974        1\nUser Datagram Protocol, Src Port: 54460, Dst Port: 53        1\nUser Datagram Protocol, Src Port: 52665, Dst Port: 53        1\nName: Col_2, Length: 377, dtype: int64"
     },
     "metadata": {},
     "execution_count": 54
    }
   ],
   "source": [
    "df.Col_2.value_counts()"
   ]
  }
 ],
 "metadata": {
  "language_info": {
   "codemirror_mode": {
    "name": "ipython",
    "version": 3
   },
   "file_extension": ".py",
   "mimetype": "text/x-python",
   "name": "python",
   "nbconvert_exporter": "python",
   "pygments_lexer": "ipython3",
   "version": "3.7.4-final"
  },
  "orig_nbformat": 2,
  "kernelspec": {
   "name": "python3",
   "display_name": "Python 3"
  }
 },
 "nbformat": 4,
 "nbformat_minor": 2
}